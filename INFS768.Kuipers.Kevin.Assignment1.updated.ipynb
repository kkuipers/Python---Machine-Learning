{
 "cells": [
  {
   "cell_type": "markdown",
   "metadata": {},
   "source": [
    "# INFS 768\n",
    "## Assignment 1\n",
    "#### kNN Model With Sckit-Learn\n",
    "##### Kevin Kuipers\n",
    "##### 9/26/2019"
   ]
  },
  {
   "cell_type": "markdown",
   "metadata": {},
   "source": [
    "<p style=\"font-family: Arial; font-size:3.0em;color:#2462C0; font-style:bold\"><br>Introduction<br><br></p>\n",
    "\n",
    "<p style=\"font-family: Arial; font-size:1.0em;color:#2462C0; font-style:bold\"><br>\n",
    "The purpose of the project is being able to classify iris species based on several features. There are four features record in this dataset: length and width of the both the sepels and petals. The measurements were recorded in centimeters. The target variable is the iris species itself. The iris species in the dataset are setosa, versicolor, and virginica. Since the target variable consists of three categories, this is a classification problem. Therefore, we will be using a classification model known as k-nearest neighbors to try and identify the correct iris species. <br><br></p>"
   ]
  },
  {
   "cell_type": "markdown",
   "metadata": {},
   "source": [
    " "
   ]
  },
  {
   "cell_type": "markdown",
   "metadata": {},
   "source": [
    "<p style=\"font-family: Arial; font-size:3.0em;color:#2462C0; font-style:bold\"><br>k-NN<br><br></p>\n",
    "<p style=\"font-family: Arial; font-size:1.0em;color:#2462C0; font-style:bold\"><br> k-Nearest Neighbor (k-NN) is a algorithm used in both classification and regression problems. In this notbook file it will be used for a classification problem. k-NN is non-parametric, lazy learning algorithm. parametric techinques means that it makes no assumptions based on the underlying data distribution or statistical measures.  This comes in handy since most real life problems pertaining to data are not normally distributed. Lazy leaner means it has to store all the data to make future predictions. Therefore, it can require much memory to hold it all.<br><br></p>\n"
   ]
  },
  {
   "cell_type": "markdown",
   "metadata": {},
   "source": [
    " "
   ]
  },
  {
   "cell_type": "markdown",
   "metadata": {},
   "source": [
    "\n",
    "##### k-NN algorithm uses the feature similarity to identify the class of the target object. The \"k\" represents the number of neighbors we want to look for in order to classify the problem. The larger the \"k\" the more number of votes it needs to classify the incoming data to that neighborhood (class). The converse is that the lower the \"k\" the less votes it needs to decide if an object belongs to that neighborhood (class)."
   ]
  },
  {
   "cell_type": "markdown",
   "metadata": {},
   "source": [
    " "
   ]
  },
  {
   "cell_type": "markdown",
   "metadata": {},
   "source": [
    "##### Now I will begin by loading all the libraries and outputting their version. Not all of them may be used in the project but it is nice having them all loaded just incase they need to be called.  Then I will load the dataset found in the sklearn library."
   ]
  },
  {
   "cell_type": "code",
   "execution_count": 1,
   "metadata": {},
   "outputs": [
    {
     "name": "stdout",
     "output_type": "stream",
     "text": [
      "Python version: 3.7.3 (default, Apr 24 2019, 15:29:51) [MSC v.1915 64 bit (AMD64)]\n",
      "pandas version: 0.24.2\n",
      "matplotlib version: 3.1.1\n",
      "NumPy version: 1.16.4\n",
      "SciPy version: 1.2.1\n",
      "IPython version: 7.6.1\n",
      "scikit-learn version: 0.21.2\n"
     ]
    }
   ],
   "source": [
    "#Loading various libaries \n",
    "\n",
    "import sys\n",
    "print(\"Python version: {}\".format(sys.version))\n",
    "import pandas as pd\n",
    "print(\"pandas version: {}\".format(pd.__version__))\n",
    "import matplotlib\n",
    "print(\"matplotlib version: {}\".format(matplotlib.__version__))\n",
    "import numpy as np\n",
    "print(\"NumPy version: {}\".format(np.__version__))\n",
    "import scipy as sp\n",
    "print(\"SciPy version: {}\".format(sp.__version__))\n",
    "import IPython\n",
    "print(\"IPython version: {}\".format(IPython.__version__))\n",
    "import sklearn\n",
    "print(\"scikit-learn version: {}\".format(sklearn.__version__))"
   ]
  },
  {
   "cell_type": "code",
   "execution_count": 2,
   "metadata": {},
   "outputs": [],
   "source": [
    "#Loading the dataset\n",
    "\n",
    "from sklearn.datasets import load_iris\n",
    "iris_dataset = load_iris()\n",
    "\n",
    "#Saving the datset to a shorter name just known as iris\n",
    "iris = iris_dataset"
   ]
  },
  {
   "cell_type": "code",
   "execution_count": 3,
   "metadata": {},
   "outputs": [
    {
     "name": "stdout",
     "output_type": "stream",
     "text": [
      "Key of the iris_dataset: \n",
      "dict_keys(['data', 'target', 'target_names', 'DESCR', 'feature_names', 'filename'])\n"
     ]
    }
   ],
   "source": [
    "#Printing the keys of the dataset\n",
    "\n",
    "print(\"Key of the iris_dataset: \\n{}\".format(iris.keys()))"
   ]
  },
  {
   "cell_type": "code",
   "execution_count": 4,
   "metadata": {},
   "outputs": [
    {
     "name": "stdout",
     "output_type": "stream",
     "text": [
      ".. _iris_dataset:\n",
      "\n",
      "Iris plants dataset\n",
      "--------------------\n",
      "\n",
      "**Data Set Characteristics:**\n",
      "\n",
      "    :Number of Instances: 150 (50 in each of three classes)\n",
      "    :Number of Attributes: 4 numeric, pre\n",
      "...\n"
     ]
    }
   ],
   "source": [
    "#Looking at the characteristics of the data set\n",
    "\n",
    "print(iris['DESCR'][:193] + \"\\n...\")"
   ]
  },
  {
   "cell_type": "markdown",
   "metadata": {},
   "source": [
    "##### It appears that there are 150 observations in this dataset. As mentioned previous there are 3 classes (the three types of iris specieis). This also displays how many obsverations there are for each class. In this case the dataset is evenly divided between the thre iris specieis. As mentioned previously, there are 4 abbritutes (features). "
   ]
  },
  {
   "cell_type": "code",
   "execution_count": 5,
   "metadata": {},
   "outputs": [
    {
     "name": "stdout",
     "output_type": "stream",
     "text": [
      "Target names: ['setosa' 'versicolor' 'virginica']\n"
     ]
    }
   ],
   "source": [
    "#Outputting the names of the three classes--types of iris species\n",
    "\n",
    "print(\"Target names: {}\".format(iris['target_names']))"
   ]
  },
  {
   "cell_type": "code",
   "execution_count": 6,
   "metadata": {},
   "outputs": [
    {
     "name": "stdout",
     "output_type": "stream",
     "text": [
      "Feature names: \n",
      "['sepal length (cm)', 'sepal width (cm)', 'petal length (cm)', 'petal width (cm)']\n"
     ]
    }
   ],
   "source": [
    "#Outputting the feature names in the data set\n",
    "\n",
    "print(\"Feature names: \\n{}\".format(iris['feature_names']))"
   ]
  },
  {
   "cell_type": "code",
   "execution_count": 7,
   "metadata": {},
   "outputs": [
    {
     "name": "stdout",
     "output_type": "stream",
     "text": [
      "Type of data: <class 'numpy.ndarray'>\n"
     ]
    }
   ],
   "source": [
    "#The data contains classes for the target variable but the features are all numeric\n",
    "print(\"Type of data: {}\".format(type(iris['data'])))"
   ]
  },
  {
   "cell_type": "code",
   "execution_count": 8,
   "metadata": {},
   "outputs": [
    {
     "name": "stdout",
     "output_type": "stream",
     "text": [
      "shape of the data: (150, 4)\n"
     ]
    }
   ],
   "source": [
    "#Looking at the shape of the data set. This will tell us the number of observations and features\n",
    "\n",
    "print(\"shape of the data: {}\".format(iris['data'].shape))"
   ]
  },
  {
   "cell_type": "code",
   "execution_count": 9,
   "metadata": {},
   "outputs": [
    {
     "name": "stdout",
     "output_type": "stream",
     "text": [
      "First five rows of the data :\n",
      "[[5.1 3.5 1.4 0.2]\n",
      " [4.9 3.  1.4 0.2]\n",
      " [4.7 3.2 1.3 0.2]\n",
      " [4.6 3.1 1.5 0.2]\n",
      " [5.  3.6 1.4 0.2]]\n"
     ]
    }
   ],
   "source": [
    "#Lets look at the first five rows od the iris dataset by slicing the dataset\n",
    "\n",
    "print(\"First five rows of the data :\\n{}\".format(iris['data'][:5]))"
   ]
  },
  {
   "cell_type": "code",
   "execution_count": 10,
   "metadata": {},
   "outputs": [
    {
     "name": "stdout",
     "output_type": "stream",
     "text": [
      "Type of target: <class 'numpy.ndarray'>\n"
     ]
    }
   ],
   "source": [
    "#Looking at the target since it was measured as a NumPy array:\n",
    "\n",
    "print(\"Type of target: {}\".format(type(iris['target'])))"
   ]
  },
  {
   "cell_type": "code",
   "execution_count": 11,
   "metadata": {},
   "outputs": [
    {
     "name": "stdout",
     "output_type": "stream",
     "text": [
      "Shape of the target: (150,)\n"
     ]
    }
   ],
   "source": [
    "#The target is a one-deminionsal array, with on entry per flower:\n",
    "\n",
    "print(\"Shape of the target: {}\".format(iris['target'].shape))"
   ]
  },
  {
   "cell_type": "code",
   "execution_count": 12,
   "metadata": {},
   "outputs": [
    {
     "name": "stdout",
     "output_type": "stream",
     "text": [
      "Target:\n",
      "[0 0 0 0 0 0 0 0 0 0 0 0 0 0 0 0 0 0 0 0 0 0 0 0 0 0 0 0 0 0 0 0 0 0 0 0 0\n",
      " 0 0 0 0 0 0 0 0 0 0 0 0 0 1 1 1 1 1 1 1 1 1 1 1 1 1 1 1 1 1 1 1 1 1 1 1 1\n",
      " 1 1 1 1 1 1 1 1 1 1 1 1 1 1 1 1 1 1 1 1 1 1 1 1 1 1 2 2 2 2 2 2 2 2 2 2 2\n",
      " 2 2 2 2 2 2 2 2 2 2 2 2 2 2 2 2 2 2 2 2 2 2 2 2 2 2 2 2 2 2 2 2 2 2 2 2 2\n",
      " 2 2]\n"
     ]
    }
   ],
   "source": [
    "#150 observations with 1 column\n",
    "\n",
    "#Now lets see how the target variables are coded:\n",
    "\n",
    "print(\"Target:\\n{}\".format(iris['target']))"
   ]
  },
  {
   "cell_type": "code",
   "execution_count": 13,
   "metadata": {},
   "outputs": [],
   "source": [
    "#It appears the target variables are coded: \"0\", \"1\", \"2\"\n",
    "\n",
    "#Training-Test split\n",
    "#scikit-learn has a nice feature to split the data between training and test.\n",
    "#The training set will contain 75% of the data for developing the model\n",
    "#the testing set will be used to validate the model\n",
    "\n",
    "from sklearn.model_selection import train_test_split\n",
    "X_train, X_test, y_train, y_test = train_test_split(\n",
    "    iris['data'], iris['target'], random_state=0)"
   ]
  },
  {
   "cell_type": "code",
   "execution_count": 14,
   "metadata": {},
   "outputs": [
    {
     "name": "stdout",
     "output_type": "stream",
     "text": [
      "X_train shape: (112, 4)\n",
      "y_train shape: (112,)\n"
     ]
    }
   ],
   "source": [
    "#Lets look at the shape of the X_train, X_test, y_train, y_test\n",
    "\n",
    "print(\"X_train shape: {}\".format(X_train.shape))\n",
    "print(\"y_train shape: {}\".format(y_train.shape))"
   ]
  },
  {
   "cell_type": "code",
   "execution_count": 15,
   "metadata": {
    "scrolled": true
   },
   "outputs": [
    {
     "name": "stdout",
     "output_type": "stream",
     "text": [
      "X_test shape: (38, 4)\n",
      "y_test shape: (38,)\n"
     ]
    }
   ],
   "source": [
    "print(\"X_test shape: {}\".format(X_test.shape))\n",
    "print(\"y_test shape: {}\".format(y_test.shape))"
   ]
  },
  {
   "cell_type": "code",
   "execution_count": 16,
   "metadata": {},
   "outputs": [],
   "source": [
    "#As we can see from the shape output the X_train and y_train both have 112 observations but\n",
    "#the X_train has the features and y_train has the target variable\n",
    "#X_test and y_test both have 38 observations but x_test has the features and y_test has the target variabel"
   ]
  },
  {
   "cell_type": "markdown",
   "metadata": {},
   "source": [
    "<p style=\"font-family: Arial; font-size:3.0em;color:#2462C0; font-style:bold\"><br>Data Exploration<br><br></p>\n",
    "\n",
    "<p style=\"font-family: Arial; font-size:1.0em;color:#2462C0; font-style:bold\"><br>One the most important aspects of building a model for a given data set is the data exploration phase. During this process one looks at the visualizations and descriptive statistics. Things like histograms, scatter plots, and descriptive statistics help reveal the nature of the data. Since all our features are continuous variables and the target variable is a categorical we can look at scatter plots and colors the points based on the category to see if we find any patterns. <br><br></p>"
   ]
  },
  {
   "cell_type": "code",
   "execution_count": 17,
   "metadata": {},
   "outputs": [
    {
     "name": "stderr",
     "output_type": "stream",
     "text": [
      "C:\\Users\\Agent000\\Anaconda3\\lib\\site-packages\\sklearn\\externals\\six.py:31: DeprecationWarning: The module is deprecated in version 0.21 and will be removed in version 0.23 since we've dropped support for Python 2.7. Please rely on the official version of six (https://pypi.org/project/six/).\n",
      "  \"(https://pypi.org/project/six/).\", DeprecationWarning)\n",
      "C:\\Users\\Agent000\\Anaconda3\\lib\\site-packages\\sklearn\\externals\\joblib\\__init__.py:15: DeprecationWarning: sklearn.externals.joblib is deprecated in 0.21 and will be removed in 0.23. Please import this functionality directly from joblib, which can be installed with: pip install joblib. If this warning is raised when loading pickled models, you may need to re-serialize those models with scikit-learn 0.21+.\n",
      "  warnings.warn(msg, category=DeprecationWarning)\n"
     ]
    },
    {
     "data": {
      "text/plain": [
       "array([[<matplotlib.axes._subplots.AxesSubplot object at 0x000001B8AB1EBD30>,\n",
       "        <matplotlib.axes._subplots.AxesSubplot object at 0x000001B8AD0ED5F8>,\n",
       "        <matplotlib.axes._subplots.AxesSubplot object at 0x000001B8AD121BA8>,\n",
       "        <matplotlib.axes._subplots.AxesSubplot object at 0x000001B8AD15E198>],\n",
       "       [<matplotlib.axes._subplots.AxesSubplot object at 0x000001B8AD190748>,\n",
       "        <matplotlib.axes._subplots.AxesSubplot object at 0x000001B8AD1C1CC0>,\n",
       "        <matplotlib.axes._subplots.AxesSubplot object at 0x000001B8AD1FE2B0>,\n",
       "        <matplotlib.axes._subplots.AxesSubplot object at 0x000001B8AD230898>],\n",
       "       [<matplotlib.axes._subplots.AxesSubplot object at 0x000001B8AD2308D0>,\n",
       "        <matplotlib.axes._subplots.AxesSubplot object at 0x000001B8AD29F400>,\n",
       "        <matplotlib.axes._subplots.AxesSubplot object at 0x000001B8AD2CF9B0>,\n",
       "        <matplotlib.axes._subplots.AxesSubplot object at 0x000001B8AD301F60>],\n",
       "       [<matplotlib.axes._subplots.AxesSubplot object at 0x000001B8AD33D550>,\n",
       "        <matplotlib.axes._subplots.AxesSubplot object at 0x000001B8AD36EB00>,\n",
       "        <matplotlib.axes._subplots.AxesSubplot object at 0x000001B8AD3AE0F0>,\n",
       "        <matplotlib.axes._subplots.AxesSubplot object at 0x000001B8AD3DD6A0>]],\n",
       "      dtype=object)"
      ]
     },
     "execution_count": 17,
     "metadata": {},
     "output_type": "execute_result"
    }
   ],
   "source": [
    "#Creating the scatter plot from the X_train data setset \n",
    "#In order to create the scatter plot the iris training set will be made into a data frame.\n",
    "#!pip install mglearn\n",
    "import mglearn\n",
    "iris_df = pd.DataFrame(X_train, columns=iris.feature_names)\n",
    "pd.plotting.scatter_matrix(iris_df, c=y_train, figsize=(15,15),\n",
    "                          marker='o', hist_kwds={'bins': 20}, s=60,\n",
    "                          alpha=.8, cmap=mglearn.cm3)"
   ]
  },
  {
   "cell_type": "markdown",
   "metadata": {},
   "source": [
    "##### For many of the plots it appears each iris species cluster with in their own class.  Overall, the groups cluster in specific patterns. Therefore, a k-NN model should work well for classifying the target variable (iris species)."
   ]
  },
  {
   "cell_type": "markdown",
   "metadata": {},
   "source": [
    "<p style=\"font-family: Arial; font-size:3.0em;color:#2462C0; font-style:bold\"><br>Developing the model<br><br></p>"
   ]
  },
  {
   "cell_type": "code",
   "execution_count": 18,
   "metadata": {},
   "outputs": [],
   "source": [
    "#developing the model using k = 1\n",
    "\n",
    "from sklearn.neighbors import KNeighborsClassifier\n",
    "knn = KNeighborsClassifier(n_neighbors=1)\n"
   ]
  },
  {
   "cell_type": "code",
   "execution_count": 19,
   "metadata": {},
   "outputs": [
    {
     "data": {
      "text/plain": [
       "KNeighborsClassifier(algorithm='auto', leaf_size=30, metric='minkowski',\n",
       "                     metric_params=None, n_jobs=None, n_neighbors=1, p=2,\n",
       "                     weights='uniform')"
      ]
     },
     "execution_count": 19,
     "metadata": {},
     "output_type": "execute_result"
    }
   ],
   "source": [
    "#fitting the model\n",
    "\n",
    "knn.fit(X_train, y_train)"
   ]
  },
  {
   "cell_type": "code",
   "execution_count": 20,
   "metadata": {},
   "outputs": [
    {
     "name": "stdout",
     "output_type": "stream",
     "text": [
      "X_new.shape: (1, 4)\n"
     ]
    }
   ],
   "source": [
    "#Making a quick prediction\n",
    "#based on the manual data enter below it will be used against the model to predict what iris specieis it is\n",
    "X_new = np.array([[5,2.9,1,0.2]])\n",
    "\n",
    "print(\"X_new.shape: {}\".format(X_new.shape))"
   ]
  },
  {
   "cell_type": "code",
   "execution_count": 21,
   "metadata": {},
   "outputs": [
    {
     "name": "stdout",
     "output_type": "stream",
     "text": [
      "Prediction: [0]\n",
      "Predicted targetname: ['setosa']\n"
     ]
    }
   ],
   "source": [
    "pred = knn.predict(X_new)\n",
    "print(\"Prediction: {}\".format(pred))\n",
    "print(\"Predicted targetname: {}\".format(\n",
    "        iris['target_names'][pred]))\n",
    "\n"
   ]
  },
  {
   "cell_type": "markdown",
   "metadata": {},
   "source": [
    "##### Using the training data set and running the manual entered data, the model classifies it as a setosa iris species. "
   ]
  },
  {
   "cell_type": "markdown",
   "metadata": {},
   "source": [
    "<p style=\"font-family: Arial; font-size:3.0em;color:#2462C0; font-style:bold\"><br>Evaluating the Model<br><br></p>\n",
    "\n",
    "<p style=\"font-family: Arial; font-size:1.0em;color:#2462C0; font-style:bold\"><br>Now that a model has been developed using the training data (75% of the data set), it will be tested to see how well it performs. This will be using the testing data (the other 25% of the data) to see how the model classifies it. This can be used to determing the accuracy of rate of the model.<br><br></p>"
   ]
  },
  {
   "cell_type": "code",
   "execution_count": 22,
   "metadata": {},
   "outputs": [
    {
     "name": "stdout",
     "output_type": "stream",
     "text": [
      "Test set predictions:\n",
      " [2 1 0 2 0 2 0 1 1 1 2 1 1 1 1 0 1 1 0 0 2 1 0 0 2 0 0 1 1 0 2 1 0 2 2 1 0\n",
      " 2]\n"
     ]
    }
   ],
   "source": [
    "#Model testing\n",
    "\n",
    "y_pred = knn.predict(X_test)\n",
    "print(\"Test set predictions:\\n {}\".format(y_pred))"
   ]
  },
  {
   "cell_type": "code",
   "execution_count": 23,
   "metadata": {},
   "outputs": [
    {
     "name": "stdout",
     "output_type": "stream",
     "text": [
      "Test set score: 0.97\n"
     ]
    }
   ],
   "source": [
    "#Accuracy rate of the model predictions vs actual iris species\n",
    "print(\"Test set score: {:.2f}\".format(np.mean((y_pred==y_test))))"
   ]
  },
  {
   "cell_type": "markdown",
   "metadata": {},
   "source": [
    "<p style=\"font-family: Arial; font-size:3.0em;color:#2462C0; font-style:bold\"><br>Outcome<br><br></p>\n",
    "<p style=\"font-family: Arial; font-size:1.0em;color:#2462C0; font-style:bold\"><br>When assessing a model's performance, the confusion matrix is helpful for interpreting the accuracy, precision, and recall. In this case we are only looking at the accuracy of the model. Meaning, what was the percentage that the model correctly identified the iris species. In this particular example, the model correctly identified the testing set 97% of the time. Therefore, the error rate is only 3%; meaning it incorrectly classified 3% of the testing set. This is a very high accuracy rate. <br><br></p>"
   ]
  },
  {
   "cell_type": "code",
   "execution_count": 24,
   "metadata": {},
   "outputs": [
    {
     "name": "stdout",
     "output_type": "stream",
     "text": [
      "Test set score: 0.97\n"
     ]
    }
   ],
   "source": [
    "#The entire code for training and testing the dataset all in one chunk\n",
    "\n",
    "#train-test split\n",
    "X_train, X_test, y_train, y_test = train_test_split(\n",
    "    iris['data'], iris['target'], random_state=0)\n",
    "\n",
    "#developing and fitting the model\n",
    "knn = KNeighborsClassifier(n_neighbors=1)\n",
    "knn.fit(X_train, y_train)\n",
    "\n",
    "#Outputting the model accuracy\n",
    "print(\"Test set score: {:.2f}\".format(knn.score(X_test, y_test)))"
   ]
  },
  {
   "cell_type": "markdown",
   "metadata": {},
   "source": [
    "# Parameter tuning\n",
    "\n",
    "##### Lets look at some hyperparameter tuning to determine which value for k (nearest neighbors) produces the highest accruacy score. Since the data set is small cross validation (CV) will be used to help validate and determine the optimal value for k value. sklearn.model_selection has an easy to use algorithm for computing the CV scores on a given model. I will look at 5 fold and 10 fold CV scores. "
   ]
  },
  {
   "cell_type": "markdown",
   "metadata": {},
   "source": [
    "# 5 Fold Cross Validation for Optimal K-value"
   ]
  },
  {
   "cell_type": "code",
   "execution_count": 31,
   "metadata": {},
   "outputs": [
    {
     "name": "stdout",
     "output_type": "stream",
     "text": [
      "The optimal number of neighbors based of the 5-fold CV is 7\n"
     ]
    },
    {
     "data": {
      "image/png": "[encoded data removed]",
      "text/plain": [
       "<Figure size 432x288 with 1 Axes>"
      ]
     },
     "metadata": {
      "needs_background": "light"
     },
     "output_type": "display_data"
    }
   ],
   "source": [
    "from sklearn.model_selection import cross_val_score\n",
    "import matplotlib.pyplot as plt\n",
    "\n",
    "# creating an odd list of k values for k-NN model for determing score\n",
    "klist = list(range(1,40))\n",
    "\n",
    "#subseting just the odd ones\n",
    "n = list(filter(lambda x: x % 2 != 0, klist))\n",
    "\n",
    "#creating an empty list that will contain CV scores\n",
    "\n",
    "cv_scores_5 = []\n",
    "\n",
    "#peform 5-fold cross validation using a for loop to loop through the data with various Ks\n",
    "#and holding the CV scores--in this case it will be the accuracy of model. \n",
    "for k in n:\n",
    "    knn_5 = KNeighborsClassifier(n_neighbors=k)\n",
    "    scores = cross_val_score(knn_5, X_train, y_train, cv=5, scoring='accuracy')\n",
    "    cv_scores_5.append(scores.mean())\n",
    "    \n",
    "#calculating the MSE (Mean Squared Error value) for the misclassification error rate\n",
    "MSE_5 = [1 - x for x in cv_scores_5]\n",
    "\n",
    "#returning the optimal value of k \n",
    "best_k_5 = n[MSE_5.index(min(MSE_5))]\n",
    "print(\"The optimal number of neighbors based of the 5-fold CV is %d\" % best_k_5)\n",
    "\n",
    "plt.plot(n, MSE_5)\n",
    "plt.xlabel('No. of Neighbors (K)')\n",
    "plt.ylabel('Misclassification Error Rate')\n",
    "plt.text(4, 0.050, r'optimal k')\n",
    "\n",
    "plt.arrow(7, 0.048, 0.001, -0.005)\n",
    "plt.show()\n"
   ]
  },
  {
   "cell_type": "markdown",
   "metadata": {},
   "source": [
    "# 10 Fold Cross Validation for Optimal K-value"
   ]
  },
  {
   "cell_type": "code",
   "execution_count": 26,
   "metadata": {},
   "outputs": [
    {
     "name": "stdout",
     "output_type": "stream",
     "text": [
      "The optimal number of neighbors based of the 10-fold CV is 7\n"
     ]
    },
    {
     "data": {
      "image/png": "[encoded data removed]",
      "text/plain": [
       "<Figure size 432x288 with 1 Axes>"
      ]
     },
     "metadata": {
      "needs_background": "light"
     },
     "output_type": "display_data"
    }
   ],
   "source": [
    "from sklearn.model_selection import cross_val_score\n",
    "\n",
    "# creating an odd list of k values for k-NN model for determing score\n",
    "klist = list(range(1,40))\n",
    "\n",
    "#subseting just the odd ones\n",
    "n = list(filter(lambda x: x % 2 != 0, klist))\n",
    "\n",
    "#creating an empty list that will contain CV scores\n",
    "\n",
    "cv_scores_10 = []\n",
    "\n",
    "#peform 10-fold cross validation using a for loop to loop through the data with various Ks\n",
    "#and holding the CV scores--in this case it will be the accuracy of model. \n",
    "for k in n:\n",
    "    knn_10 = KNeighborsClassifier(n_neighbors=k)\n",
    "    scores = cross_val_score(knn_10, X_train, y_train, cv=10, scoring='accuracy')\n",
    "    cv_scores_10.append(scores.mean())\n",
    "    \n",
    "#calculating the MSE (Mean Squared Error value) for the misclassification error rate\n",
    "MSE_10 = [1 - x for x in cv_scores_10]\n",
    "\n",
    "#returning the optimal value of k \n",
    "best_k_10 = n[MSE_10.index(min(MSE_10))]\n",
    "print(\"The optimal number of neighbors based of the 10-fold CV is %d\" % best_k_5)\n",
    "\n",
    "plt.plot(n, MSE_10)\n",
    "plt.xlabel('No. of Neighbors (K)')\n",
    "plt.ylabel('Misclassification Error Rate')\n",
    "plt.text(4, 0.050, r'optimal k')\n",
    "\n",
    "plt.arrow(7, 0.048, 0.001, -0.005)\n",
    "plt.show()\n"
   ]
  },
  {
   "cell_type": "markdown",
   "metadata": {},
   "source": [
    "##### Using both 5-fold CV and 10-fold CV the optimal value for k is 7. Therefore, train and test the model with k=7 to see if the score improves from previously\n",
    "\n",
    "# K (Nearest Neighbors = 7)"
   ]
  },
  {
   "cell_type": "code",
   "execution_count": 27,
   "metadata": {},
   "outputs": [
    {
     "name": "stdout",
     "output_type": "stream",
     "text": [
      "Test set score: 0.97\n"
     ]
    }
   ],
   "source": [
    "#fitting the model with k = 7\n",
    "\n",
    "knn = KNeighborsClassifier(n_neighbors=7)\n",
    "knn.fit(X_train, y_train)\n",
    "\n",
    "#Outputting the model accuracy\n",
    "print(\"Test set score: {:.2f}\".format(knn.score(X_test, y_test)))\n",
    "\n"
   ]
  },
  {
   "cell_type": "markdown",
   "metadata": {},
   "source": [
    "##### It appears the test score is still 97% accuracy. This is the same when k = 1. But for the model to generalize to new incoming data k=7 may be a better fit."
   ]
  },
  {
   "cell_type": "markdown",
   "metadata": {},
   "source": [
    "<p style=\"font-family: Arial; font-size:3.0em;color:#2462C0; font-style:bold\"><br>k-NN strengths<br><br></p>\n",
    "<p style=\"font-family: Arial; font-size:1.0em;color:#2462C0; font-style:bold\"><br>There are pros and cons with k-NN models. One of the strengths with k-NN model is that it is non-parametic model. This means it does not make assumptions about the underlying data, and is useful for non linear data. Whereas, parametic models assume the data is normally distributed and has other assumptons to follow. If those assumptios are not met for parametric data, it has to be transformed. Another strength for k-NN model, is that the model is very easy to interpret, implement, and explain--especially visually. The model accuracy is very high in the case. The k-NN model can be used for classification and regression.<br><br></p>\n",
    "\n",
    "<p style=\"font-family: Arial; font-size:3.0em;color:#2462C0; font-style:bold\"><br> k-NN weaknesses<br><br></p>\n",
    "\n",
    "<p style=\"font-family: Arial; font-size:1.0em;color:#2462C0; font-style:bold\"><br>\n",
    "One of the draw backs is that the k-NN model is a lazy learner. This means it has to hold all the training data to make predictions. Therefore, if it is a very large data set then run times can be slow and requires much memory. k-NN is also very sensitive to outliers or if one type of classifier is predominate in dataset. In this cases, the data was divided evenly between iris species--a 1/3 of the data represented iris species (class). However, if the data predominately contains one class over the other, k-NN is more likely to classify the predominate occuring class. k-NN model works better with smaller feature selections and does not handle well when their are lots of features. This means it suffers in dimensionality data sets where there are many, many features. <br><br></p>"
   ]
  }
 ],
 "metadata": {
  "kernelspec": {
   "display_name": "Python 3",
   "language": "python",
   "name": "python3"
  },
  "language_info": {
   "codemirror_mode": {
    "name": "ipython",
    "version": 3
   },
   "file_extension": ".py",
   "mimetype": "text/x-python",
   "name": "python",
   "nbconvert_exporter": "python",
   "pygments_lexer": "ipython3",
   "version": "3.7.3"
  }
 },
 "nbformat": 4,
 "nbformat_minor": 2
}
