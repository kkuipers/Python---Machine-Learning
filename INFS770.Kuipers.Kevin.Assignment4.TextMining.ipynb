{
 "cells": [
  {
   "cell_type": "markdown",
   "metadata": {},
   "source": [
    "# INFS770\n",
    "## Assignment 4\n",
    "### Kevin Kuipers \n",
    "#### 04/21/2020"
   ]
  },
  {
   "cell_type": "markdown",
   "metadata": {},
   "source": [
    "### Mining Text Data"
   ]
  },
  {
   "cell_type": "markdown",
   "metadata": {},
   "source": [
    "# Q1\n",
    "\n",
    "##### To begin I have a data set consisting of reviews. The features in the data set are:\n",
    "##### pid - Product ID\n",
    "##### helpful - Score from 0-5  of the helpfulness rating by other user of this review\n",
    "##### score  - Score from 0-5 of the product rating associated with this review\n",
    "##### text - the text content of the review\n",
    "##### category - the category of the review, e.g. watch, electronics, etc.\n",
    "\n",
    "##### I will begin by loading the data set into a pandas dataframe. Then I will print the first five rows to ensure it was loaded correctly. For the last part I will outpt the distribution counts of the variable \"score\" and \"category\".\n"
   ]
  },
  {
   "cell_type": "code",
   "execution_count": 1,
   "metadata": {},
   "outputs": [],
   "source": [
    "#importing libraries\n",
    "import pandas as pd\n",
    "import numpy as np"
   ]
  },
  {
   "cell_type": "code",
   "execution_count": 2,
   "metadata": {},
   "outputs": [
    {
     "data": {
      "text/html": [
       "<div>\n",
       "<style scoped>\n",
       "    .dataframe tbody tr th:only-of-type {\n",
       "        vertical-align: middle;\n",
       "    }\n",
       "\n",
       "    .dataframe tbody tr th {\n",
       "        vertical-align: top;\n",
       "    }\n",
       "\n",
       "    .dataframe thead th {\n",
       "        text-align: right;\n",
       "    }\n",
       "</style>\n",
       "<table border=\"1\" class=\"dataframe\">\n",
       "  <thead>\n",
       "    <tr style=\"text-align: right;\">\n",
       "      <th></th>\n",
       "      <th>pid</th>\n",
       "      <th>helpful</th>\n",
       "      <th>score</th>\n",
       "      <th>text</th>\n",
       "      <th>category</th>\n",
       "    </tr>\n",
       "  </thead>\n",
       "  <tbody>\n",
       "    <tr>\n",
       "      <th>0</th>\n",
       "      <td>B000GAYQL8</td>\n",
       "      <td>0/0</td>\n",
       "      <td>5</td>\n",
       "      <td>GREAT WATCH AND GREAT LOOK. BIG FACE AND 4 DIF...</td>\n",
       "      <td>watch</td>\n",
       "    </tr>\n",
       "    <tr>\n",
       "      <th>1</th>\n",
       "      <td>B000IBNPDA</td>\n",
       "      <td>0/0</td>\n",
       "      <td>5</td>\n",
       "      <td>Bought this as a Christmas gift, my boyfriend ...</td>\n",
       "      <td>watch</td>\n",
       "    </tr>\n",
       "    <tr>\n",
       "      <th>2</th>\n",
       "      <td>B000J2HA16</td>\n",
       "      <td>0/0</td>\n",
       "      <td>5</td>\n",
       "      <td>I love this watch! Its sporty, without looking...</td>\n",
       "      <td>watch</td>\n",
       "    </tr>\n",
       "    <tr>\n",
       "      <th>3</th>\n",
       "      <td>B000BDIQPM</td>\n",
       "      <td>0/0</td>\n",
       "      <td>5</td>\n",
       "      <td>Works great,looks nice,dont have to worry abou...</td>\n",
       "      <td>watch</td>\n",
       "    </tr>\n",
       "    <tr>\n",
       "      <th>4</th>\n",
       "      <td>B000GZTH9E</td>\n",
       "      <td>0/3</td>\n",
       "      <td>4</td>\n",
       "      <td>I need to change the watch wrist and I havent ...</td>\n",
       "      <td>watch</td>\n",
       "    </tr>\n",
       "  </tbody>\n",
       "</table>\n",
       "</div>"
      ],
      "text/plain": [
       "          pid helpful  score  \\\n",
       "0  B000GAYQL8     0/0      5   \n",
       "1  B000IBNPDA     0/0      5   \n",
       "2  B000J2HA16     0/0      5   \n",
       "3  B000BDIQPM     0/0      5   \n",
       "4  B000GZTH9E     0/3      4   \n",
       "\n",
       "                                                text category  \n",
       "0  GREAT WATCH AND GREAT LOOK. BIG FACE AND 4 DIF...    watch  \n",
       "1  Bought this as a Christmas gift, my boyfriend ...    watch  \n",
       "2  I love this watch! Its sporty, without looking...    watch  \n",
       "3  Works great,looks nice,dont have to worry abou...    watch  \n",
       "4  I need to change the watch wrist and I havent ...    watch  "
      ]
     },
     "execution_count": 2,
     "metadata": {},
     "output_type": "execute_result"
    }
   ],
   "source": [
    "#loading the amazon_review_texts.csv as a DataFrame\n",
    "df = 'amazon_review_texts.csv'\n",
    "\n",
    "df = pd.DataFrame(pd.read_csv(df, sep=',', header=0))\n",
    "\n",
    "#outputting the first five rows of the dataframe\n",
    "df.head(5)"
   ]
  },
  {
   "cell_type": "code",
   "execution_count": 3,
   "metadata": {},
   "outputs": [
    {
     "name": "stdout",
     "output_type": "stream",
     "text": [
      "Populating the interactive namespace from numpy and matplotlib\n",
      "5    2070\n",
      "4     773\n",
      "1     595\n",
      "3     303\n",
      "2     259\n",
      "Name: score, dtype: int64\n"
     ]
    },
    {
     "data": {
      "image/png": "[encoded data removed]",
      "text/plain": [
       "<Figure size 288x288 with 1 Axes>"
      ]
     },
     "metadata": {
      "needs_background": "light"
     },
     "output_type": "display_data"
    }
   ],
   "source": [
    "%pylab inline\n",
    "df.hist(figsize=(4,4))\n",
    "print(df['score'].value_counts())"
   ]
  },
  {
   "cell_type": "code",
   "execution_count": 4,
   "metadata": {},
   "outputs": [
    {
     "name": "stdout",
     "output_type": "stream",
     "text": [
      "electronics    1000\n",
      "watch          1000\n",
      "software       1000\n",
      "automotive     1000\n",
      "Name: category, dtype: int64\n"
     ]
    },
    {
     "data": {
      "image/png": "[encoded data removed]",
      "text/plain": [
       "<Figure size 288x288 with 1 Axes>"
      ]
     },
     "metadata": {
      "needs_background": "light"
     },
     "output_type": "display_data"
    }
   ],
   "source": [
    "df['category'].hist(figsize=(4,4))\n",
    "print(df['category'].value_counts())\n"
   ]
  },
  {
   "cell_type": "markdown",
   "metadata": {},
   "source": [
    "##### It appears for score the distribution is pretty skewed. Most of the review scores are 5 and then 4. For category, there is 1000 instances for each category (watch, software, electronics, automative)"
   ]
  },
  {
   "cell_type": "markdown",
   "metadata": {},
   "source": [
    "# Q2\n",
    "\n",
    "## Preprocessing and claculate token frequency\n",
    "\n",
    "##### The next step is to tokenize the review. The process will do the following:\n",
    "\n",
    "##### 1 ) Lower case the tokens\n",
    "##### 2 ) remove stop words using nltk library\n",
    "##### 3 ) stemming using the nltk library\n",
    "##### 4 ) Remove punctuations\n",
    "##### 5 ) Remove numbers\n"
   ]
  },
  {
   "cell_type": "code",
   "execution_count": 5,
   "metadata": {},
   "outputs": [
    {
     "name": "stdout",
     "output_type": "stream",
     "text": [
      "['much', 'glorious', 'inexpens', 'item', 'stark', 'minim', 'probabl', 'would', 'qualifi', 'fashion', 'statement', 'simpl', 'white', 'face', 'black', 'numer', 'rel', 'attract', 'comic', 'san', 'typefac', 'watch', 'strap', 'rubber', 'buy', 'whole', 'watch', 'cheaper', 'buy', 'new', 'strap', 'case', 'gave', 'star', 'anyth', 'rave', 'watch']\n"
     ]
    }
   ],
   "source": [
    "# Obtaining stopwords\n",
    "import nltk\n",
    "from nltk.corpus import stopwords\n",
    "stopwords = set(stopwords.words(\"english\"))\n",
    "\n",
    "import re\n",
    "def before_token(documents):\n",
    "    # 1 Converting words to lower case\n",
    "    lower = map(str.lower, documents)\n",
    "    # 4 Removre Punctuations\n",
    "    punctuationless = list(map(lambda x: \" \".join(re.findall('\\\\b\\\\w\\\\w+\\\\b',x)), lower))\n",
    "    # 5 Remove Numbers\n",
    "    return list(map(lambda x:re.sub('\\\\b[0-9]+\\\\b', '', x), punctuationless))\n",
    "\n",
    "# 3 Stemmer\n",
    "stemmer = nltk.stem.PorterStemmer()\n",
    "\n",
    "# Token Frequency\n",
    "fdist = nltk.FreqDist()\n",
    "\n",
    "\n",
    "# tokenization\n",
    "def preprocess(doc):\n",
    "    tokens = []\n",
    "    for token in doc.split():\n",
    "        if token not in stopwords:\n",
    "            tokens.append(stemmer.stem(token))\n",
    "    return tokens\n",
    "            \n",
    "# preprocess all documents for the text feature (reviews)\n",
    "processed = list(map(preprocess, before_token(df['text'])))\n",
    "print(processed[5])"
   ]
  },
  {
   "cell_type": "markdown",
   "metadata": {},
   "source": [
    "## Token Frequency\n",
    "##### Now lets look at the token frequency using the FreqDist function which takes a list of tokens and return a dict containing unique items and frequency"
   ]
  },
  {
   "cell_type": "code",
   "execution_count": 6,
   "metadata": {},
   "outputs": [
    {
     "name": "stdout",
     "output_type": "stream",
     "text": [
      "Unique tokens: 10973\n",
      "Total tokens: 193927\n",
      "Tokens occured only once: 4701\n",
      "Token that occurs the most: watch\n"
     ]
    }
   ],
   "source": [
    "fdist = nltk.FreqDist([token for doc in processed for token in doc])\n",
    "\n",
    "print(\"Unique tokens: %d\" % fdist.B())\n",
    "print('Total tokens: %d' % fdist.N())\n",
    "print('Tokens occured only once: %d' % len(fdist.hapaxes()))\n",
    "print('Token that occurs the most: %s' % fdist.max())"
   ]
  },
  {
   "cell_type": "code",
   "execution_count": 7,
   "metadata": {},
   "outputs": [
    {
     "data": {
      "image/png": "[encoded data removed]",
      "text/plain": [
       "<Figure size 432x288 with 1 Axes>"
      ]
     },
     "metadata": {
      "needs_background": "light"
     },
     "output_type": "display_data"
    },
    {
     "data": {
      "image/png": "[encoded data removed]",
      "text/plain": [
       "<Figure size 432x288 with 1 Axes>"
      ]
     },
     "metadata": {
      "needs_background": "light"
     },
     "output_type": "display_data"
    },
    {
     "data": {
      "text/plain": [
       "<matplotlib.axes._subplots.AxesSubplot at 0x146f244a9e8>"
      ]
     },
     "execution_count": 7,
     "metadata": {},
     "output_type": "execute_result"
    }
   ],
   "source": [
    "\"%matplotlib inline\"\n",
    "fdist.plot(10)\n",
    "fdist.plot(100)"
   ]
  },
  {
   "cell_type": "markdown",
   "metadata": {},
   "source": [
    "## Top 10 frequently occuring tokens"
   ]
  },
  {
   "cell_type": "code",
   "execution_count": 8,
   "metadata": {},
   "outputs": [
    {
     "name": "stdout",
     "output_type": "stream",
     "text": [
      "  watch     use     one    work    time    like product   great     get   would \n",
      "   2553    2476    1795    1605    1420    1375    1336    1318    1309    1217 \n"
     ]
    }
   ],
   "source": [
    "fdist.tabulate(10)"
   ]
  },
  {
   "cell_type": "markdown",
   "metadata": {},
   "source": [
    "##### Use, one, product, would, and work do not seem like they would be very helpful in clustering. These words can be used in any category and I do not think would be helpful in clustering. Watch and time make sense because I would speculate that they would get clustered under the watch category..  "
   ]
  },
  {
   "cell_type": "markdown",
   "metadata": {},
   "source": [
    "# Q3\n",
    "##### Now I will reconstruct the documents and vectorize all the documents using TfidfVectorizer using norm='l2. I will also remove tokens that appear in over 80% of the documents. During this process I will remove stopwords again. Normalization is needed for clustering the data"
   ]
  },
  {
   "cell_type": "code",
   "execution_count": 9,
   "metadata": {},
   "outputs": [
    {
     "name": "stdout",
     "output_type": "stream",
     "text": [
      "Number of samples: 4000, Number of features : 10833\n"
     ]
    }
   ],
   "source": [
    "processed_doc = list(map(\" \".join, processed))\n",
    "\n",
    "\n",
    "from sklearn.preprocessing import normalize\n",
    "from sklearn.feature_extraction.text import CountVectorizer, TfidfVectorizer, TfidfTransformer\n",
    "\n",
    "#Normalize the data for clustering\n",
    "vectorizer = TfidfVectorizer(max_df=.8, stop_words='english', norm='l2')\n",
    "X = vectorizer.fit_transform(processed_doc)\n",
    "\n",
    "print(\"Number of samples: %d, Number of features : %d\" % X.shape)"
   ]
  },
  {
   "cell_type": "markdown",
   "metadata": {},
   "source": [
    "# Q4\n",
    "\n",
    "##### Since the data has been preprocessed and normalized lets use K-means clustering to categorize the documents into 4 clusters. I will output the top 10 representative words for each cluster. "
   ]
  },
  {
   "cell_type": "code",
   "execution_count": 10,
   "metadata": {},
   "outputs": [
    {
     "data": {
      "text/plain": [
       "KMeans(algorithm='auto', copy_x=True, init='k-means++', max_iter=100,\n",
       "       n_clusters=4, n_init=10, n_jobs=None, precompute_distances='auto',\n",
       "       random_state=712, tol=0.0001, verbose=0)"
      ]
     },
     "execution_count": 10,
     "metadata": {},
     "output_type": "execute_result"
    }
   ],
   "source": [
    "from sklearn.cluster import KMeans\n",
    "\n",
    "km = KMeans(n_clusters=4, max_iter=100, random_state=712)\n",
    "km.fit(X)"
   ]
  },
  {
   "cell_type": "code",
   "execution_count": 11,
   "metadata": {},
   "outputs": [
    {
     "name": "stdout",
     "output_type": "stream",
     "text": [
      "Clsuter 0:\n",
      " watch \n",
      " look \n",
      " band \n",
      " time \n",
      " great \n",
      " wear \n",
      " love \n",
      " like \n",
      " nice \n",
      " year \n",
      "Clsuter 1:\n",
      " product \n",
      " work \n",
      " great \n",
      " use \n",
      " batteri \n",
      " good \n",
      " charg \n",
      " fit \n",
      " price \n",
      " charger \n",
      "Clsuter 2:\n",
      " bed \n",
      " air \n",
      " inflat \n",
      " comfort \n",
      " pump \n",
      " sleep \n",
      " mattress \n",
      " deflat \n",
      " airb \n",
      " easi \n",
      "Clsuter 3:\n",
      " program \n",
      " softwar \n",
      " use \n",
      " game \n",
      " version \n",
      " comput \n",
      " product \n",
      " work \n",
      " instal \n",
      " window \n"
     ]
    }
   ],
   "source": [
    "order_centroids = km.cluster_centers_.argsort()[:, ::-1]\n",
    "terms = vectorizer.get_feature_names()\n",
    "for i in range(4):\n",
    "    print('Clsuter %d:' % i)\n",
    "    for ind in order_centroids[i, :10]:\n",
    "        print(' %s ' % terms[ind])\n",
    "    print"
   ]
  },
  {
   "cell_type": "markdown",
   "metadata": {},
   "source": [
    "##### It looks like the K-means clustering did a good job clustering 2 of the categories. For example, cluster 0 can be identified as watches. Cluster 3 can be identified as software, computer, applications. Cluster 1 and 2 can be difficult to label. Cluster 2 has words that could be associated with automotive or electronics. However, based on cluster 2 results, I would have to label cluster 1 as automotive and cluster 2 as electronics. "
   ]
  },
  {
   "cell_type": "markdown",
   "metadata": {},
   "source": [
    "# Q5\n",
    "\n",
    "##### Now I will build a topic model using Laten Dirichlet Allocation (LDA) from the vectorized data. I will set the number of topics to 4. I will also look at the words for each topic. . This will be done to see how it compares to K-Means Clustering model. "
   ]
  },
  {
   "cell_type": "code",
   "execution_count": 12,
   "metadata": {},
   "outputs": [
    {
     "data": {
      "text/plain": [
       "[(0,\n",
       "  '0.003*\"collag\" + 0.001*\"civic\" + 0.001*\"blunt\" + 0.001*\"bind\" + 0.001*\"coreldraw\" + 0.001*\"brrr\" + 0.001*\"bmw\" + 0.001*\"clumsi\" + 0.001*\"3b\" + 0.001*\"128kbp\"'),\n",
       " (1,\n",
       "  '0.002*\"bullock\" + 0.001*\"bronz\" + 0.001*\"ep\" + 0.001*\"dispos\" + 0.001*\"fort\" + 0.001*\"dude\" + 0.001*\"fifth\" + 0.001*\"copi\" + 0.001*\"everth\" + 0.001*\"cirru\"'),\n",
       " (2,\n",
       "  '0.001*\"30min\" + 0.001*\"2007a\" + 0.001*\"cockey\" + 0.001*\"begginn\" + 0.001*\"bravia\" + 0.001*\"discoveri\" + 0.001*\"basin\" + 0.001*\"avaial\" + 0.001*\"aluminim\" + 0.001*\"ad\"'),\n",
       " (3,\n",
       "  '0.002*\"extraordinari\" + 0.002*\"flytrap\" + 0.002*\"claymat\" + 0.001*\"batterycon\" + 0.001*\"bounc\" + 0.001*\"coher\" + 0.001*\"benefit\" + 0.001*\"bathroom\" + 0.001*\"delibertli\" + 0.001*\"exterior\"')]"
      ]
     },
     "execution_count": 12,
     "metadata": {},
     "output_type": "execute_result"
    }
   ],
   "source": [
    "import gensim\n",
    "from gensim.models import LdaModel, LsiModel\n",
    "\n",
    "corpus = gensim.matutils.Sparse2Corpus(X)\n",
    "id2word = dict((v,k) for k,v in vectorizer.vocabulary_.items())\n",
    "lda = LdaModel(corpus, num_topics=4, id2word=id2word, passes = 100, random_state=712)\n",
    "\n",
    "lda.print_topics()"
   ]
  },
  {
   "cell_type": "markdown",
   "metadata": {},
   "source": [
    "##### Besides topic 0, none of the the words I feel like describe the 4 product categories. Topic 0, is clearly defined as automotive with words like 'civic' and 'bmw'. When comparing this to Kmeans model, I think Kmean did a MUCH better job clustering the data. "
   ]
  },
  {
   "cell_type": "markdown",
   "metadata": {},
   "source": [
    "# Q6\n",
    "\n",
    "\n",
    "##### Now Lets look at using SGD classifier to predict review score using texts. I will use 5-fold cross validation and output the classification report for each of the 5 folds. This will include the precision, recall, f1-score, and support by class. At the very end of it the average f1-score across the 5 folds will be outputted. First I will use TFIDF to vectorize the data set again. The following will be done:\n",
    "##### |\n",
    "##### Remove tokens that appear in over 80% of the documents\n",
    "##### Remove those that appear in just 1 document\n",
    "##### Remove english stopwords\n",
    "##### Print the number of features obtained"
   ]
  },
  {
   "cell_type": "code",
   "execution_count": 13,
   "metadata": {},
   "outputs": [
    {
     "name": "stderr",
     "output_type": "stream",
     "text": [
      "C:\\Users\\Agent000\\Anaconda3\\lib\\site-packages\\sklearn\\feature_extraction\\text.py:385: UserWarning: Your stop_words may be inconsistent with your preprocessing. Tokenizing the stop words generated tokens ['afterward', 'alon', 'alreadi', 'alway', 'anoth', 'anyon', 'anyth', 'anywher', 'becam', 'becom', 'besid', 'cri', 'describ', 'els', 'elsewher', 'empti', 'everi', 'everyon', 'everyth', 'everywher', 'fifti', 'formerli', 'forti', 'henc', 'hereaft', 'herebi', 'howev', 'hundr', 'inde', 'latterli', 'mani', 'meanwhil', 'moreov', 'mostli', 'nobodi', 'noon', 'noth', 'nowher', 'otherwis', 'perhap', 'pleas', 'seriou', 'sever', 'sinc', 'sincer', 'sixti', 'someon', 'someth', 'sometim', 'somewher', 'thenc', 'thereaft', 'therebi', 'therefor', 'thu', 'togeth', 'twelv', 'twenti', 'whatev', 'whenc', 'whenev', 'wherea', 'whereaft', 'wherebi', 'wherev'] not in stop_words.\n",
      "  'stop_words.' % sorted(inconsistent))\n"
     ]
    },
    {
     "name": "stdout",
     "output_type": "stream",
     "text": [
      "Number of samples: 4000, Number of features : 5668\n"
     ]
    }
   ],
   "source": [
    "from sklearn.linear_model import SGDClassifier\n",
    "from sklearn.model_selection import StratifiedKFold\n",
    "from sklearn.feature_extraction.text import TfidfVectorizer\n",
    "from sklearn import metrics\n",
    "from sklearn.metrics import classification_report\n",
    "from sklearn.metrics import f1_score\n",
    "\n",
    "vectorizer_2 = TfidfVectorizer(tokenizer=preprocess, max_df=.8, stop_words='english', min_df=2)\n",
    "X_2 = vectorizer_2.fit_transform(processed_doc)\n",
    "df_2 = pd.DataFrame(X_2.todense(), columns=vectorizer_2.get_feature_names())\n",
    "\n",
    "print(\"Number of samples: %d, Number of features : %d\" % X_2.shape)\n",
    "\n"
   ]
  },
  {
   "cell_type": "code",
   "execution_count": 14,
   "metadata": {},
   "outputs": [
    {
     "name": "stdout",
     "output_type": "stream",
     "text": [
      "Fold 1\n",
      "Number of samples: 3200, Number of features : 8870\n",
      "              precision    recall  f1-score   support\n",
      "\n",
      "           1       0.62      0.57      0.60       119\n",
      "           2       0.29      0.20      0.24        51\n",
      "           3       0.33      0.30      0.31        61\n",
      "           4       0.47      0.39      0.42       155\n",
      "           5       0.70      0.80      0.74       414\n",
      "\n",
      "    accuracy                           0.61       800\n",
      "   macro avg       0.48      0.45      0.46       800\n",
      "weighted avg       0.59      0.61      0.59       800\n",
      "\n",
      "Fold 2\n",
      "Number of samples: 3200, Number of features : 8805\n",
      "              precision    recall  f1-score   support\n",
      "\n",
      "           1       0.64      0.69      0.66       119\n",
      "           2       0.37      0.19      0.25        52\n",
      "           3       0.38      0.20      0.26        60\n",
      "           4       0.34      0.29      0.31       155\n",
      "           5       0.68      0.78      0.73       414\n",
      "\n",
      "    accuracy                           0.59       800\n",
      "   macro avg       0.48      0.43      0.44       800\n",
      "weighted avg       0.56      0.59      0.57       800\n",
      "\n",
      "Fold 3\n",
      "Number of samples: 3200, Number of features : 8988\n",
      "              precision    recall  f1-score   support\n",
      "\n",
      "           1       0.57      0.60      0.58       119\n",
      "           2       0.35      0.15      0.21        52\n",
      "           3       0.30      0.15      0.20        60\n",
      "           4       0.44      0.39      0.41       155\n",
      "           5       0.70      0.82      0.76       414\n",
      "\n",
      "    accuracy                           0.61       800\n",
      "   macro avg       0.47      0.42      0.43       800\n",
      "weighted avg       0.58      0.61      0.59       800\n",
      "\n",
      "Fold 4\n",
      "Number of samples: 3200, Number of features : 8991\n",
      "              precision    recall  f1-score   support\n",
      "\n",
      "           1       0.56      0.55      0.56       119\n",
      "           2       0.43      0.23      0.30        52\n",
      "           3       0.27      0.11      0.16        61\n",
      "           4       0.40      0.37      0.39       154\n",
      "           5       0.70      0.82      0.75       414\n",
      "\n",
      "    accuracy                           0.60       800\n",
      "   macro avg       0.47      0.42      0.43       800\n",
      "weighted avg       0.57      0.60      0.58       800\n",
      "\n",
      "Fold 5\n",
      "Number of samples: 3200, Number of features : 8850\n",
      "              precision    recall  f1-score   support\n",
      "\n",
      "           1       0.60      0.60      0.60       119\n",
      "           2       0.39      0.23      0.29        52\n",
      "           3       0.29      0.16      0.21        61\n",
      "           4       0.39      0.31      0.34       154\n",
      "           5       0.69      0.82      0.75       414\n",
      "\n",
      "    accuracy                           0.60       800\n",
      "   macro avg       0.47      0.42      0.44       800\n",
      "weighted avg       0.57      0.60      0.58       800\n",
      "\n",
      "Average F1: 0.58\n"
     ]
    }
   ],
   "source": [
    "#5-fold cross validation\n",
    "skf = StratifiedKFold(n_splits=5,random_state=712, shuffle=True)\n",
    "fold = 0\n",
    "f1 = []\n",
    "#creating a for loop for train_index, text_index in skf\n",
    "for train_index, test_index in skf.split(df['text'], df['score']):\n",
    "    fold += 1\n",
    "    print(\"Fold %d\" % fold)\n",
    "    #paritioning the data set\n",
    "    train_x, test_x = df['text'].iloc[train_index], df['text'].iloc[test_index]\n",
    "    train_y, test_y = df['score'].iloc[train_index], df['score'].iloc[test_index]\n",
    "    X_3 = vectorizer_2.fit_transform(train_x)\n",
    "    print(\"Number of samples: %d, Number of features : %d\" % X_3.shape)\n",
    "    X_3test = vectorizer_2.transform(test_x)\n",
    "    \n",
    "    clf = SGDClassifier(random_state=fold)\n",
    "    clf.fit(X_3, train_y)\n",
    "    \n",
    "    pred_y = clf.predict(X_3test)\n",
    "    \n",
    "    for line in metrics.classification_report(test_y, pred_y).split(\"\\n\"):\n",
    "        print(line)\n",
    "    f1.append(metrics.f1_score(test_y, pred_y, average='weighted'))\n",
    "print(\"Average F1: %.2f\" % np.mean(f1))"
   ]
  },
  {
   "cell_type": "markdown",
   "metadata": {},
   "source": [
    "##### The results, precision, recall, f1-score are very similar among each fold. It means the data is consistent among the folds. This indicates that the models are stable. The average F1-score is 0.58. The precision and recall scores relatively consistent among the folds. However, it seems predicion and recall are higher for predicting review score 5  and then review score 1. Precision and Recall tend the be pretty low for predicting review scores between 2-4. \n",
    "\n",
    "##### | \n",
    "##### Recall is the ratio betweem how many were correctly identified as positives to how many were actually postive. In this case the model's recall is roughly 60% among all the folds. \n",
    "\n",
    "##### |\n",
    "##### Precision is how many were correctly classified as positive out all positive examples. In this case, among all positive examples the model has a precision of roughly 57% among all the folds. \n",
    "\n",
    "##### |\n",
    "##### F1 score is the harmonic mean of recall and precision. This score is a better measure of the incorrectly classified cases than the accuracy score. When you want a good balance between recall and precision f1 helps provide that indication. In this case the average F1 score among the folds is 58%. \n",
    "    "
   ]
  },
  {
   "cell_type": "markdown",
   "metadata": {},
   "source": [
    "# Q7\n",
    "\n",
    "##### Now I will create a new variable called \"satisfaction\" based on the following criteria:\n",
    "##### If review score is 4 or 5 then the satisfaction is 1\n",
    "##### else the satisfaction will be score 0 \n",
    "##### Then I do a 5-fold cross validation prediction satisfaction using an SGD classifier using the same vectorizer as in the previous section (Q6). I will output the same classification as in Q6. "
   ]
  },
  {
   "cell_type": "code",
   "execution_count": 15,
   "metadata": {},
   "outputs": [
    {
     "data": {
      "text/html": [
       "<div>\n",
       "<style scoped>\n",
       "    .dataframe tbody tr th:only-of-type {\n",
       "        vertical-align: middle;\n",
       "    }\n",
       "\n",
       "    .dataframe tbody tr th {\n",
       "        vertical-align: top;\n",
       "    }\n",
       "\n",
       "    .dataframe thead th {\n",
       "        text-align: right;\n",
       "    }\n",
       "</style>\n",
       "<table border=\"1\" class=\"dataframe\">\n",
       "  <thead>\n",
       "    <tr style=\"text-align: right;\">\n",
       "      <th></th>\n",
       "      <th>pid</th>\n",
       "      <th>helpful</th>\n",
       "      <th>score</th>\n",
       "      <th>text</th>\n",
       "      <th>category</th>\n",
       "      <th>satisfaction</th>\n",
       "    </tr>\n",
       "  </thead>\n",
       "  <tbody>\n",
       "    <tr>\n",
       "      <th>0</th>\n",
       "      <td>B000GAYQL8</td>\n",
       "      <td>0/0</td>\n",
       "      <td>5</td>\n",
       "      <td>GREAT WATCH AND GREAT LOOK. BIG FACE AND 4 DIF...</td>\n",
       "      <td>watch</td>\n",
       "      <td>1</td>\n",
       "    </tr>\n",
       "    <tr>\n",
       "      <th>1</th>\n",
       "      <td>B000IBNPDA</td>\n",
       "      <td>0/0</td>\n",
       "      <td>5</td>\n",
       "      <td>Bought this as a Christmas gift, my boyfriend ...</td>\n",
       "      <td>watch</td>\n",
       "      <td>1</td>\n",
       "    </tr>\n",
       "    <tr>\n",
       "      <th>2</th>\n",
       "      <td>B000J2HA16</td>\n",
       "      <td>0/0</td>\n",
       "      <td>5</td>\n",
       "      <td>I love this watch! Its sporty, without looking...</td>\n",
       "      <td>watch</td>\n",
       "      <td>1</td>\n",
       "    </tr>\n",
       "    <tr>\n",
       "      <th>3</th>\n",
       "      <td>B000BDIQPM</td>\n",
       "      <td>0/0</td>\n",
       "      <td>5</td>\n",
       "      <td>Works great,looks nice,dont have to worry abou...</td>\n",
       "      <td>watch</td>\n",
       "      <td>1</td>\n",
       "    </tr>\n",
       "    <tr>\n",
       "      <th>4</th>\n",
       "      <td>B000GZTH9E</td>\n",
       "      <td>0/3</td>\n",
       "      <td>4</td>\n",
       "      <td>I need to change the watch wrist and I havent ...</td>\n",
       "      <td>watch</td>\n",
       "      <td>1</td>\n",
       "    </tr>\n",
       "  </tbody>\n",
       "</table>\n",
       "</div>"
      ],
      "text/plain": [
       "          pid helpful  score  \\\n",
       "0  B000GAYQL8     0/0      5   \n",
       "1  B000IBNPDA     0/0      5   \n",
       "2  B000J2HA16     0/0      5   \n",
       "3  B000BDIQPM     0/0      5   \n",
       "4  B000GZTH9E     0/3      4   \n",
       "\n",
       "                                                text category  satisfaction  \n",
       "0  GREAT WATCH AND GREAT LOOK. BIG FACE AND 4 DIF...    watch             1  \n",
       "1  Bought this as a Christmas gift, my boyfriend ...    watch             1  \n",
       "2  I love this watch! Its sporty, without looking...    watch             1  \n",
       "3  Works great,looks nice,dont have to worry abou...    watch             1  \n",
       "4  I need to change the watch wrist and I havent ...    watch             1  "
      ]
     },
     "execution_count": 15,
     "metadata": {},
     "output_type": "execute_result"
    }
   ],
   "source": [
    "#Creating a function to assign the satisfaction based upon score in the data set\n",
    "def sat_class(score):\n",
    "    if score >= 4: \n",
    "        return 1\n",
    "    else: \n",
    "        return 0\n",
    "#Applying the function to the data frame   \n",
    "df['satisfaction'] = df['score'].apply(sat_class)\n",
    "#oputputting the first five rows\n",
    "df.head()"
   ]
  },
  {
   "cell_type": "code",
   "execution_count": 16,
   "metadata": {},
   "outputs": [
    {
     "name": "stdout",
     "output_type": "stream",
     "text": [
      "Fold 1\n",
      "Number of samples: 3200, Number of features : 8978\n",
      "              precision    recall  f1-score   support\n",
      "\n",
      "           0       0.67      0.61      0.64       231\n",
      "           1       0.85      0.88      0.86       569\n",
      "\n",
      "    accuracy                           0.80       800\n",
      "   macro avg       0.76      0.74      0.75       800\n",
      "weighted avg       0.80      0.80      0.80       800\n",
      "\n",
      "Fold 2\n",
      "Number of samples: 3200, Number of features : 8872\n",
      "              precision    recall  f1-score   support\n",
      "\n",
      "           0       0.73      0.64      0.68       231\n",
      "           1       0.86      0.91      0.88       569\n",
      "\n",
      "    accuracy                           0.83       800\n",
      "   macro avg       0.80      0.77      0.78       800\n",
      "weighted avg       0.82      0.83      0.83       800\n",
      "\n",
      "Fold 3\n",
      "Number of samples: 3200, Number of features : 8879\n",
      "              precision    recall  f1-score   support\n",
      "\n",
      "           0       0.73      0.68      0.71       231\n",
      "           1       0.88      0.90      0.89       569\n",
      "\n",
      "    accuracy                           0.84       800\n",
      "   macro avg       0.81      0.79      0.80       800\n",
      "weighted avg       0.83      0.84      0.84       800\n",
      "\n",
      "Fold 4\n",
      "Number of samples: 3200, Number of features : 8846\n",
      "              precision    recall  f1-score   support\n",
      "\n",
      "           0       0.70      0.61      0.65       232\n",
      "           1       0.85      0.89      0.87       568\n",
      "\n",
      "    accuracy                           0.81       800\n",
      "   macro avg       0.78      0.75      0.76       800\n",
      "weighted avg       0.81      0.81      0.81       800\n",
      "\n",
      "Fold 5\n",
      "Number of samples: 3200, Number of features : 8892\n",
      "              precision    recall  f1-score   support\n",
      "\n",
      "           0       0.68      0.61      0.64       232\n",
      "           1       0.85      0.89      0.87       568\n",
      "\n",
      "    accuracy                           0.81       800\n",
      "   macro avg       0.77      0.75      0.75       800\n",
      "weighted avg       0.80      0.81      0.80       800\n",
      "\n",
      "Average F1: 0.81\n"
     ]
    }
   ],
   "source": [
    "skf_2 = StratifiedKFold(n_splits=5,random_state=712, shuffle=True)\n",
    "fold_2 = 0\n",
    "f1_2 = []\n",
    "\n",
    "for train_index2, test_index2 in skf_2.split(df['text'], df['satisfaction']):\n",
    "    fold_2 += 1\n",
    "    print(\"Fold %d\" % fold_2)\n",
    "    #paritioning the data set\n",
    "    train_2x, test_2x = df['text'].iloc[train_index2], df['text'].iloc[test_index2]\n",
    "    train_2y, test_2y = df['satisfaction'].iloc[train_index2], df['satisfaction'].iloc[test_index2]\n",
    "    X_4 = vectorizer_2.fit_transform(train_2x)\n",
    "    print(\"Number of samples: %d, Number of features : %d\" % X_4.shape)\n",
    "    X_4test = vectorizer_2.transform(test_2x)\n",
    "    \n",
    "    clf = SGDClassifier(random_state=fold_2)\n",
    "    clf.fit(X_4, train_2y)\n",
    "    \n",
    "    pred_2y = clf.predict(X_4test)\n",
    "    \n",
    "    for line in metrics.classification_report(test_2y, pred_2y).split(\"\\n\"):\n",
    "        print(line)\n",
    "    f1_2.append(metrics.f1_score(test_2y, pred_2y, average='weighted'))\n",
    "print(\"Average F1: %.2f\" % np.mean(f1_2))"
   ]
  },
  {
   "cell_type": "markdown",
   "metadata": {},
   "source": [
    "##### It appears the precision, recall, and f1 scores have increased significantly when using a binary response variable satisfaction based on review scores. "
   ]
  },
  {
   "cell_type": "markdown",
   "metadata": {},
   "source": [
    "# Q8\n",
    "\n",
    "##### Now I perfom sentiment lexicon for classification. The following will be done:\n",
    "##### Re-vectorize the texts again using the TFIDF vectorizer\n",
    "##### Remove tokens that appear in over 80% of the documents\n",
    "##### Remove those that appear in just 1 document\n",
    "##### Remove english stopwords\n",
    "##### Print the number of features obtained\n",
    "##### Perform 5-fold cross validation with precision, recall, f1 score\n",
    "##### Average f1-score across the folds. "
   ]
  },
  {
   "cell_type": "markdown",
   "metadata": {},
   "source": [
    "### Reading in the lexicon and assigning -1 for negative words, 1 for positive words"
   ]
  },
  {
   "cell_type": "code",
   "execution_count": 17,
   "metadata": {},
   "outputs": [
    {
     "name": "stdout",
     "output_type": "stream",
     "text": [
      "2-faced -1\n",
      "2-faces -1\n",
      "abnormal -1\n",
      "abolish -1\n",
      "abominable -1\n",
      "abominably -1\n"
     ]
    }
   ],
   "source": [
    "lexicon = dict()\n",
    "\n",
    "# reading the negative words\n",
    "with open(r'C:\\\\Users\\Agent000\\Documents\\DSU\\Classes\\2020\\Spring 2020\\Assignments\\Assignment 4\\opinion-lexicon-English\\negative-words.txt') as in_file:\n",
    "    for line in in_file.readlines():\n",
    "        if not line.startswith(';') and line != '\\n':\n",
    "            lexicon[line.strip()] = -1\n",
    "            \n",
    "# reading positive words            \n",
    "with open(r'C:\\\\Users\\Agent000\\Documents\\DSU\\Classes\\2020\\Spring 2020\\Assignments\\Assignment 4\\opinion-lexicon-English\\positive-words.txt') as in_file:\n",
    "    for line in in_file.readlines():\n",
    "        if not line.startswith(';') and line != '\\n':\n",
    "            lexicon[line.strip()] = 1\n",
    "            \n",
    "for i, (a, b) in enumerate(lexicon.items()):\n",
    "    print(a,b)\n",
    "    if i > 4: break"
   ]
  },
  {
   "cell_type": "markdown",
   "metadata": {},
   "source": [
    "### creating a function that uses seniment word voting to classify sentiment"
   ]
  },
  {
   "cell_type": "code",
   "execution_count": 18,
   "metadata": {},
   "outputs": [
    {
     "name": "stdout",
     "output_type": "stream",
     "text": [
      "positive\n",
      "negative\n",
      "neutral\n"
     ]
    }
   ],
   "source": [
    "def lexicon_classify(text):\n",
    "    score = 0\n",
    "    for token in preprocess(text):\n",
    "        score += lexicon.get(token, 0)\n",
    "    if score > 0: \n",
    "        return \"positive\"\n",
    "    elif score <0:\n",
    "        return 'negative'\n",
    "    else:\n",
    "        return 'neutral'\n",
    "    \n",
    "text = 'microsoft is good. This is perfect'\n",
    "text2 = 'awful bad garbage crap'\n",
    "text3 = 'good bad'\n",
    "print(lexicon_classify(text))\n",
    "print(lexicon_classify(text2))\n",
    "print(lexicon_classify(text3))"
   ]
  },
  {
   "cell_type": "markdown",
   "metadata": {},
   "source": [
    "### Applying the lexicon to the dataframe and revectorizing the data using TFIDF"
   ]
  },
  {
   "cell_type": "code",
   "execution_count": 19,
   "metadata": {},
   "outputs": [
    {
     "data": {
      "text/plain": [
       "positive    2716\n",
       "neutral      667\n",
       "negative     617\n",
       "Name: lex, dtype: int64"
      ]
     },
     "execution_count": 19,
     "metadata": {},
     "output_type": "execute_result"
    }
   ],
   "source": [
    "df['lex'] = df['text'].apply(lexicon_classify)\n",
    "df['lex'].value_counts()"
   ]
  },
  {
   "cell_type": "markdown",
   "metadata": {},
   "source": [
    "##### Based on the lexicon results to the data set it appears there are mostly positive reviews. More than half of the data set is positive reviews (roughly 65%). On the other hand, neutral and negaitve are very close to each other and each make up around 15% of the data set. "
   ]
  },
  {
   "cell_type": "code",
   "execution_count": 20,
   "metadata": {},
   "outputs": [
    {
     "name": "stderr",
     "output_type": "stream",
     "text": [
      "C:\\Users\\Agent000\\Anaconda3\\lib\\site-packages\\sklearn\\feature_extraction\\text.py:385: UserWarning: Your stop_words may be inconsistent with your preprocessing. Tokenizing the stop words generated tokens ['afterward', 'alon', 'alreadi', 'alway', 'anoth', 'anyon', 'anyth', 'anywher', 'becam', 'becom', 'besid', 'cri', 'describ', 'els', 'elsewher', 'empti', 'everi', 'everyon', 'everyth', 'everywher', 'fifti', 'formerli', 'forti', 'henc', 'hereaft', 'herebi', 'howev', 'hundr', 'inde', 'latterli', 'mani', 'meanwhil', 'moreov', 'mostli', 'nobodi', 'noon', 'noth', 'nowher', 'otherwis', 'perhap', 'pleas', 'seriou', 'sever', 'sinc', 'sincer', 'sixti', 'someon', 'someth', 'sometim', 'somewher', 'thenc', 'thereaft', 'therebi', 'therefor', 'thu', 'togeth', 'twelv', 'twenti', 'whatev', 'whenc', 'whenev', 'wherea', 'whereaft', 'wherebi', 'wherev'] not in stop_words.\n",
      "  'stop_words.' % sorted(inconsistent))\n"
     ]
    },
    {
     "name": "stdout",
     "output_type": "stream",
     "text": [
      "Number of samples: 4000, Number of features : 6786\n"
     ]
    }
   ],
   "source": [
    "vocab = lexicon.keys()\n",
    "vectorizer_5 = TfidfVectorizer(tokenizer=preprocess, max_df=.8, stop_words='english', min_df=2, vocabulary=vocab)\n",
    "X_5 = vectorizer_5.fit_transform(processed_doc)\n",
    "df_5 = pd.DataFrame(X_5.todense(), columns=vectorizer_5.get_feature_names())\n",
    "\n",
    "print(\"Number of samples: %d, Number of features : %d\" % X_5.shape)"
   ]
  },
  {
   "cell_type": "code",
   "execution_count": 21,
   "metadata": {},
   "outputs": [
    {
     "name": "stdout",
     "output_type": "stream",
     "text": [
      "Fold 1\n",
      "Number of samples: 3200, Number of features : 6786\n",
      "              precision    recall  f1-score   support\n",
      "\n",
      "           0       0.58      0.39      0.47       231\n",
      "           1       0.78      0.88      0.83       569\n",
      "\n",
      "    accuracy                           0.74       800\n",
      "   macro avg       0.68      0.64      0.65       800\n",
      "weighted avg       0.72      0.74      0.72       800\n",
      "\n",
      "Fold 2\n",
      "Number of samples: 3200, Number of features : 6786\n",
      "              precision    recall  f1-score   support\n",
      "\n",
      "           0       0.68      0.40      0.50       231\n",
      "           1       0.79      0.92      0.85       569\n",
      "\n",
      "    accuracy                           0.77       800\n",
      "   macro avg       0.74      0.66      0.68       800\n",
      "weighted avg       0.76      0.77      0.75       800\n",
      "\n",
      "Fold 3\n",
      "Number of samples: 3200, Number of features : 6786\n",
      "              precision    recall  f1-score   support\n",
      "\n",
      "           0       0.73      0.39      0.50       231\n",
      "           1       0.79      0.94      0.86       569\n",
      "\n",
      "    accuracy                           0.78       800\n",
      "   macro avg       0.76      0.66      0.68       800\n",
      "weighted avg       0.77      0.78      0.76       800\n",
      "\n",
      "Fold 4\n",
      "Number of samples: 3200, Number of features : 6786\n",
      "              precision    recall  f1-score   support\n",
      "\n",
      "           0       0.67      0.39      0.49       232\n",
      "           1       0.79      0.92      0.85       568\n",
      "\n",
      "    accuracy                           0.77       800\n",
      "   macro avg       0.73      0.65      0.67       800\n",
      "weighted avg       0.75      0.77      0.74       800\n",
      "\n",
      "Fold 5\n",
      "Number of samples: 3200, Number of features : 6786\n",
      "              precision    recall  f1-score   support\n",
      "\n",
      "           0       0.69      0.37      0.48       232\n",
      "           1       0.78      0.93      0.85       568\n",
      "\n",
      "    accuracy                           0.77       800\n",
      "   macro avg       0.74      0.65      0.67       800\n",
      "weighted avg       0.76      0.77      0.74       800\n",
      "\n",
      "Average F1: 0.74\n"
     ]
    }
   ],
   "source": [
    "skf_3 = StratifiedKFold(n_splits=5,random_state=712, shuffle=True)\n",
    "fold_3 = 0\n",
    "f1_3 = []\n",
    "\n",
    "for train_index3, test_index3 in skf_3.split(df['text'], df['satisfaction']):\n",
    "    fold_3 += 1\n",
    "    print(\"Fold %d\" % fold_3)\n",
    "    #paritioning the data set\n",
    "    train_3x, test_3x = df['text'].iloc[train_index3], df['text'].iloc[test_index3]\n",
    "    train_3y, test_3y = df['satisfaction'].iloc[train_index3], df['satisfaction'].iloc[test_index3]\n",
    "    X_5 = vectorizer_5.fit_transform(train_3x)\n",
    "    print(\"Number of samples: %d, Number of features : %d\" % X_5.shape)\n",
    "    X_5test = vectorizer_5.transform(test_3x)\n",
    "    \n",
    "    clf = SGDClassifier(random_state=fold_3)\n",
    "    clf.fit(X_5, train_3y)\n",
    "    \n",
    "    pred_3y = clf.predict(X_5test)\n",
    "    \n",
    "    for line in metrics.classification_report(test_3y, pred_3y).split(\"\\n\"):\n",
    "        print(line)\n",
    "    f1_3.append(metrics.f1_score(test_3y, pred_3y, average='weighted'))\n",
    "print(\"Average F1: %.2f\" % np.mean(f1_3))\n"
   ]
  },
  {
   "cell_type": "markdown",
   "metadata": {},
   "source": [
    "##### The F1 score has no increased, infact, it has slighly decreased. "
   ]
  },
  {
   "cell_type": "markdown",
   "metadata": {},
   "source": [
    "# Q9 \n",
    "##### Now I perform principal component analysis (PCA). The first run of PCA will be used to determine the number of components that can be used to explain 90% of the variance. Then, the second run will contain the number of components that explains 90% of the variance. I will output the classification report containing precision, recall, f1-socre and the average f1 score."
   ]
  },
  {
   "cell_type": "markdown",
   "metadata": {},
   "source": [
    "### Vectorize the dataset using TFIDF"
   ]
  },
  {
   "cell_type": "code",
   "execution_count": 22,
   "metadata": {},
   "outputs": [
    {
     "name": "stderr",
     "output_type": "stream",
     "text": [
      "C:\\Users\\Agent000\\Anaconda3\\lib\\site-packages\\sklearn\\feature_extraction\\text.py:385: UserWarning: Your stop_words may be inconsistent with your preprocessing. Tokenizing the stop words generated tokens ['afterward', 'alon', 'alreadi', 'alway', 'anoth', 'anyon', 'anyth', 'anywher', 'becam', 'becom', 'besid', 'cri', 'describ', 'els', 'elsewher', 'empti', 'everi', 'everyon', 'everyth', 'everywher', 'fifti', 'formerli', 'forti', 'henc', 'hereaft', 'herebi', 'howev', 'hundr', 'inde', 'latterli', 'mani', 'meanwhil', 'moreov', 'mostli', 'nobodi', 'noon', 'noth', 'nowher', 'otherwis', 'perhap', 'pleas', 'seriou', 'sever', 'sinc', 'sincer', 'sixti', 'someon', 'someth', 'sometim', 'somewher', 'thenc', 'thereaft', 'therebi', 'therefor', 'thu', 'togeth', 'twelv', 'twenti', 'whatev', 'whenc', 'whenev', 'wherea', 'whereaft', 'wherebi', 'wherev'] not in stop_words.\n",
      "  'stop_words.' % sorted(inconsistent))\n"
     ]
    },
    {
     "name": "stdout",
     "output_type": "stream",
     "text": [
      "Number of samples: 4000, Number of features : 10468\n"
     ]
    }
   ],
   "source": [
    "from sklearn.model_selection import train_test_split\n",
    "\n",
    "vectorizer_6 = TfidfVectorizer(tokenizer=preprocess, max_df=.8, stop_words='english', min_df=2)\n",
    "X_6 = vectorizer_6.fit_transform(df['text']).todense()\n",
    "\n",
    "print(\"Number of samples: %d, Number of features : %d\" % X_6.shape)"
   ]
  },
  {
   "cell_type": "markdown",
   "metadata": {},
   "source": [
    "### Standardization - Before running PCA the data needs to be standardized"
   ]
  },
  {
   "cell_type": "code",
   "execution_count": 23,
   "metadata": {},
   "outputs": [
    {
     "name": "stdout",
     "output_type": "stream",
     "text": [
      "Number of samples: 4000, Number of features : 10468\n"
     ]
    }
   ],
   "source": [
    "from sklearn.preprocessing import StandardScaler\n",
    "\n",
    "X_std = StandardScaler().fit_transform(X_6)\n",
    "print(\"Number of samples: %d, Number of features : %d\" % X_std.shape)"
   ]
  },
  {
   "cell_type": "markdown",
   "metadata": {},
   "source": [
    "### Determining the number of principal components to use (First Run)"
   ]
  },
  {
   "cell_type": "code",
   "execution_count": 24,
   "metadata": {},
   "outputs": [
    {
     "name": "stdout",
     "output_type": "stream",
     "text": [
      "[4.45023800e-03 3.96657131e-03 3.75929886e-03 ... 3.91025917e-37\n",
      " 2.22591825e-37 8.85007209e-38]\n",
      "2321\n"
     ]
    }
   ],
   "source": [
    "from sklearn.decomposition import PCA\n",
    "pca = PCA(svd_solver='randomized', whiten=True).fit(X_std)\n",
    "print(pca.explained_variance_ratio_)\n",
    "sumofvariance=0.0\n",
    "n_components = 0\n",
    "for item in pca.explained_variance_ratio_:\n",
    "    sumofvariance += item\n",
    "    n_components += 1\n",
    "    if sumofvariance >= 0.90:\n",
    "        break\n",
    "print(n_components)"
   ]
  },
  {
   "cell_type": "markdown",
   "metadata": {},
   "source": [
    "##### It appears the number of components that explains 90% of variance is  2321. Now I will run PCA with these components."
   ]
  },
  {
   "cell_type": "code",
   "execution_count": 25,
   "metadata": {},
   "outputs": [
    {
     "name": "stdout",
     "output_type": "stream",
     "text": [
      "              precision    recall  f1-score   support\n",
      "\n",
      "           0       0.75      0.19      0.31       231\n",
      "           1       0.75      0.97      0.85       569\n",
      "\n",
      "    accuracy                           0.75       800\n",
      "   macro avg       0.75      0.58      0.58       800\n",
      "weighted avg       0.75      0.75      0.69       800\n",
      "\n"
     ]
    }
   ],
   "source": [
    "pca = PCA(n_components=2321, svd_solver='randomized',whiten=True).fit(X_std)\n",
    "X_train_pca = pca.transform(X_std)\n",
    "train_x, test_x, train_y, test_y = train_test_split(X_train_pca, df[\"satisfaction\"], test_size=0.2, stratify=df[\"satisfaction\"], random_state=712)\n",
    "clf = SGDClassifier()\n",
    "clf.fit(train_x, train_y)\n",
    "pred_y = clf.predict(test_x)\n",
    "for line in metrics.classification_report(test_y, pred_y).split(\"\\n\"):\n",
    "    print(line)"
   ]
  },
  {
   "cell_type": "markdown",
   "metadata": {},
   "source": [
    "##### It appears the the PCA did not improve the results from usering the Q8. It looks like the accruacy has remained the same. However, the recall for satisfaction 0 is very low. It seems that the classifier for in Q7 had the highest accuracy score, F1 score, and overall optimal results."
   ]
  }
 ],
 "metadata": {
  "kernelspec": {
   "display_name": "Python 3",
   "language": "python",
   "name": "python3"
  },
  "language_info": {
   "codemirror_mode": {
    "name": "ipython",
    "version": 3
   },
   "file_extension": ".py",
   "mimetype": "text/x-python",
   "name": "python",
   "nbconvert_exporter": "python",
   "pygments_lexer": "ipython3",
   "version": "3.7.3"
  }
 },
 "nbformat": 4,
 "nbformat_minor": 2
}
