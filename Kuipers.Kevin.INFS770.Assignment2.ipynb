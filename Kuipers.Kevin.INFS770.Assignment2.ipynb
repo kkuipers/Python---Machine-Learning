{
 "cells": [
  {
   "cell_type": "markdown",
   "metadata": {},
   "source": [
    "# INFS770\n",
    "## Assignment 2\n",
    "### Kevin Kuipers \n",
    "#### 3/17/2020"
   ]
  },
  {
   "cell_type": "markdown",
   "metadata": {},
   "source": [
    "##### The objective of this notebook is implement a recommender system using a book rating data set. I will begin by loading some libraries that will be helpful: pandas, numpy, and some functions for cosine distance, uclidean distance, and correlation distance."
   ]
  },
  {
   "cell_type": "code",
   "execution_count": 1,
   "metadata": {},
   "outputs": [],
   "source": [
    "import pandas as pd\n",
    "import numpy as np\n",
    "from scipy.spatial.distance import cosine, euclidean"
   ]
  },
  {
   "cell_type": "markdown",
   "metadata": {},
   "source": [
    "### Importing the data"
   ]
  },
  {
   "cell_type": "code",
   "execution_count": 2,
   "metadata": {},
   "outputs": [],
   "source": [
    "df = pd.read_csv('C:/Users/Agent000/Documents/DSU/Classes/2020/Spring 2020/Assignments/Assignment 2/DBbook_train_ratings.tsv',\n",
    "    sep='\\t',\n",
    "    header=0)"
   ]
  },
  {
   "cell_type": "code",
   "execution_count": 3,
   "metadata": {},
   "outputs": [
    {
     "data": {
      "text/html": [
       "<div>\n",
       "<style scoped>\n",
       "    .dataframe tbody tr th:only-of-type {\n",
       "        vertical-align: middle;\n",
       "    }\n",
       "\n",
       "    .dataframe tbody tr th {\n",
       "        vertical-align: top;\n",
       "    }\n",
       "\n",
       "    .dataframe thead th {\n",
       "        text-align: right;\n",
       "    }\n",
       "</style>\n",
       "<table border=\"1\" class=\"dataframe\">\n",
       "  <thead>\n",
       "    <tr style=\"text-align: right;\">\n",
       "      <th></th>\n",
       "      <th>userID</th>\n",
       "      <th>itemID</th>\n",
       "      <th>rate</th>\n",
       "    </tr>\n",
       "  </thead>\n",
       "  <tbody>\n",
       "    <tr>\n",
       "      <th>0</th>\n",
       "      <td>6873</td>\n",
       "      <td>3201</td>\n",
       "      <td>4</td>\n",
       "    </tr>\n",
       "    <tr>\n",
       "      <th>1</th>\n",
       "      <td>6873</td>\n",
       "      <td>3098</td>\n",
       "      <td>4</td>\n",
       "    </tr>\n",
       "    <tr>\n",
       "      <th>2</th>\n",
       "      <td>6873</td>\n",
       "      <td>4198</td>\n",
       "      <td>4</td>\n",
       "    </tr>\n",
       "    <tr>\n",
       "      <th>3</th>\n",
       "      <td>6873</td>\n",
       "      <td>5950</td>\n",
       "      <td>4</td>\n",
       "    </tr>\n",
       "    <tr>\n",
       "      <th>4</th>\n",
       "      <td>6873</td>\n",
       "      <td>204</td>\n",
       "      <td>4</td>\n",
       "    </tr>\n",
       "  </tbody>\n",
       "</table>\n",
       "</div>"
      ],
      "text/plain": [
       "   userID  itemID  rate\n",
       "0    6873    3201     4\n",
       "1    6873    3098     4\n",
       "2    6873    4198     4\n",
       "3    6873    5950     4\n",
       "4    6873     204     4"
      ]
     },
     "execution_count": 3,
     "metadata": {},
     "output_type": "execute_result"
    }
   ],
   "source": [
    "df.head()"
   ]
  },
  {
   "cell_type": "markdown",
   "metadata": {},
   "source": [
    "##### Looking at the first five rows of the data User ID is the first column which refers to the user. ItemID is the book. And rate is the value the user rated the book. "
   ]
  },
  {
   "cell_type": "markdown",
   "metadata": {},
   "source": [
    "# Q1 \n",
    "##### Now lets look at the number of unique users and the number of unique books in the entire data set"
   ]
  },
  {
   "cell_type": "code",
   "execution_count": 4,
   "metadata": {},
   "outputs": [
    {
     "name": "stdout",
     "output_type": "stream",
     "text": [
      "Unique users: 6181\n",
      "Unique books: 6166\n"
     ]
    }
   ],
   "source": [
    "print(\"Unique users: %d\" % len(df['userID'].unique()))\n",
    "print('Unique books: %d' % len(df['itemID'].unique()))"
   ]
  },
  {
   "cell_type": "markdown",
   "metadata": {},
   "source": [
    "# Q2\n",
    "\n",
    "##### Now I will create utility matrix. Each row of this matrix represents a user, and the columns represent an item. After creating it I will output the first 10 rows and to see what it looks. then I will count the number of cells that contain NaN. This output will tell the number of cells that are not populated. I will create a percentage of the data set to see how many contain NaN.  Lastly, for this section I will populate all missing values with 0."
   ]
  },
  {
   "cell_type": "code",
   "execution_count": 5,
   "metadata": {},
   "outputs": [
    {
     "name": "stdout",
     "output_type": "stream",
     "text": [
      "The shape of the user-item matrix: 6181 x 6166\n",
      "itemID  1     2     3     5     7     8     9     11    12    13    ...  8157  \\\n",
      "userID                                                              ...         \n",
      "1        NaN   NaN   NaN   NaN   NaN   NaN   NaN   NaN   NaN   NaN  ...   NaN   \n",
      "2        NaN   NaN   NaN   NaN   NaN   NaN   NaN   NaN   NaN   NaN  ...   NaN   \n",
      "3        NaN   NaN   NaN   NaN   NaN   NaN   NaN   NaN   NaN   NaN  ...   NaN   \n",
      "4        NaN   NaN   NaN   NaN   NaN   NaN   NaN   NaN   NaN   NaN  ...   NaN   \n",
      "5        NaN   NaN   NaN   NaN   NaN   NaN   NaN   NaN   NaN   NaN  ...   NaN   \n",
      "6        NaN   NaN   NaN   NaN   NaN   NaN   NaN   NaN   NaN   NaN  ...   NaN   \n",
      "7        NaN   NaN   NaN   NaN   NaN   NaN   NaN   NaN   NaN   NaN  ...   NaN   \n",
      "8        NaN   NaN   NaN   NaN   NaN   NaN   NaN   NaN   NaN   NaN  ...   NaN   \n",
      "9        NaN   NaN   NaN   NaN   NaN   NaN   NaN   NaN   NaN   NaN  ...   NaN   \n",
      "10       NaN   NaN   NaN   NaN   NaN   NaN   NaN   NaN   NaN   NaN  ...   NaN   \n",
      "\n",
      "itemID  8160  8161  8162  8163  8164  8166  8167  8168  8169  \n",
      "userID                                                        \n",
      "1        NaN   NaN   NaN   NaN   NaN   NaN   NaN   NaN   NaN  \n",
      "2        NaN   NaN   NaN   NaN   NaN   NaN   NaN   NaN   NaN  \n",
      "3        NaN   NaN   NaN   NaN   NaN   NaN   NaN   NaN   NaN  \n",
      "4        NaN   NaN   NaN   NaN   NaN   NaN   NaN   4.0   NaN  \n",
      "5        NaN   NaN   NaN   NaN   NaN   NaN   NaN   NaN   NaN  \n",
      "6        NaN   NaN   NaN   NaN   NaN   NaN   NaN   4.0   NaN  \n",
      "7        NaN   NaN   NaN   NaN   NaN   NaN   NaN   NaN   NaN  \n",
      "8        NaN   NaN   NaN   NaN   NaN   NaN   NaN   NaN   NaN  \n",
      "9        NaN   NaN   NaN   NaN   NaN   NaN   NaN   NaN   NaN  \n",
      "10       NaN   NaN   NaN   NaN   NaN   NaN   NaN   NaN   NaN  \n",
      "\n",
      "[10 rows x 6166 columns]\n"
     ]
    }
   ],
   "source": [
    "dense_matrix = df.pivot_table(values='rate', index=['userID'], columns=['itemID'])\n",
    "\n",
    "print('The shape of the user-item matrix: %d x %d' % dense_matrix.shape)\n",
    "print(dense_matrix.head(10))"
   ]
  },
  {
   "cell_type": "code",
   "execution_count": 6,
   "metadata": {},
   "outputs": [
    {
     "name": "stdout",
     "output_type": "stream",
     "text": [
      "The number of non-populated cells (containing NaN): 75558\n",
      "the percentage of cells in the utility matrix that are not populated: 0.19825227960734515 %\n"
     ]
    }
   ],
   "source": [
    "print(\"The number of non-populated cells (containing NaN): %d\" % np.count_nonzero(~np.isnan(dense_matrix)))\n",
    "\n",
    "percentage = (np.count_nonzero(~np.isnan(dense_matrix)))/(6181*6166)\n",
    "percentage = percentage*100\n",
    "\n",
    "print(\"the percentage of cells in the utility matrix that are not populated:\",percentage,\"%\")\n",
    "\n"
   ]
  },
  {
   "cell_type": "code",
   "execution_count": 7,
   "metadata": {},
   "outputs": [
    {
     "data": {
      "text/html": [
       "<div>\n",
       "<style scoped>\n",
       "    .dataframe tbody tr th:only-of-type {\n",
       "        vertical-align: middle;\n",
       "    }\n",
       "\n",
       "    .dataframe tbody tr th {\n",
       "        vertical-align: top;\n",
       "    }\n",
       "\n",
       "    .dataframe thead th {\n",
       "        text-align: right;\n",
       "    }\n",
       "</style>\n",
       "<table border=\"1\" class=\"dataframe\">\n",
       "  <thead>\n",
       "    <tr style=\"text-align: right;\">\n",
       "      <th>itemID</th>\n",
       "      <th>1</th>\n",
       "      <th>2</th>\n",
       "      <th>3</th>\n",
       "      <th>5</th>\n",
       "      <th>7</th>\n",
       "      <th>8</th>\n",
       "      <th>9</th>\n",
       "      <th>11</th>\n",
       "      <th>12</th>\n",
       "      <th>13</th>\n",
       "      <th>...</th>\n",
       "      <th>8157</th>\n",
       "      <th>8160</th>\n",
       "      <th>8161</th>\n",
       "      <th>8162</th>\n",
       "      <th>8163</th>\n",
       "      <th>8164</th>\n",
       "      <th>8166</th>\n",
       "      <th>8167</th>\n",
       "      <th>8168</th>\n",
       "      <th>8169</th>\n",
       "    </tr>\n",
       "    <tr>\n",
       "      <th>userID</th>\n",
       "      <th></th>\n",
       "      <th></th>\n",
       "      <th></th>\n",
       "      <th></th>\n",
       "      <th></th>\n",
       "      <th></th>\n",
       "      <th></th>\n",
       "      <th></th>\n",
       "      <th></th>\n",
       "      <th></th>\n",
       "      <th></th>\n",
       "      <th></th>\n",
       "      <th></th>\n",
       "      <th></th>\n",
       "      <th></th>\n",
       "      <th></th>\n",
       "      <th></th>\n",
       "      <th></th>\n",
       "      <th></th>\n",
       "      <th></th>\n",
       "      <th></th>\n",
       "    </tr>\n",
       "  </thead>\n",
       "  <tbody>\n",
       "    <tr>\n",
       "      <th>1</th>\n",
       "      <td>0.0</td>\n",
       "      <td>0.0</td>\n",
       "      <td>0.0</td>\n",
       "      <td>0.0</td>\n",
       "      <td>0.0</td>\n",
       "      <td>0.0</td>\n",
       "      <td>0.0</td>\n",
       "      <td>0.0</td>\n",
       "      <td>0.0</td>\n",
       "      <td>0.0</td>\n",
       "      <td>...</td>\n",
       "      <td>0.0</td>\n",
       "      <td>0.0</td>\n",
       "      <td>0.0</td>\n",
       "      <td>0.0</td>\n",
       "      <td>0.0</td>\n",
       "      <td>0.0</td>\n",
       "      <td>0.0</td>\n",
       "      <td>0.0</td>\n",
       "      <td>0.0</td>\n",
       "      <td>0.0</td>\n",
       "    </tr>\n",
       "    <tr>\n",
       "      <th>2</th>\n",
       "      <td>0.0</td>\n",
       "      <td>0.0</td>\n",
       "      <td>0.0</td>\n",
       "      <td>0.0</td>\n",
       "      <td>0.0</td>\n",
       "      <td>0.0</td>\n",
       "      <td>0.0</td>\n",
       "      <td>0.0</td>\n",
       "      <td>0.0</td>\n",
       "      <td>0.0</td>\n",
       "      <td>...</td>\n",
       "      <td>0.0</td>\n",
       "      <td>0.0</td>\n",
       "      <td>0.0</td>\n",
       "      <td>0.0</td>\n",
       "      <td>0.0</td>\n",
       "      <td>0.0</td>\n",
       "      <td>0.0</td>\n",
       "      <td>0.0</td>\n",
       "      <td>0.0</td>\n",
       "      <td>0.0</td>\n",
       "    </tr>\n",
       "    <tr>\n",
       "      <th>3</th>\n",
       "      <td>0.0</td>\n",
       "      <td>0.0</td>\n",
       "      <td>0.0</td>\n",
       "      <td>0.0</td>\n",
       "      <td>0.0</td>\n",
       "      <td>0.0</td>\n",
       "      <td>0.0</td>\n",
       "      <td>0.0</td>\n",
       "      <td>0.0</td>\n",
       "      <td>0.0</td>\n",
       "      <td>...</td>\n",
       "      <td>0.0</td>\n",
       "      <td>0.0</td>\n",
       "      <td>0.0</td>\n",
       "      <td>0.0</td>\n",
       "      <td>0.0</td>\n",
       "      <td>0.0</td>\n",
       "      <td>0.0</td>\n",
       "      <td>0.0</td>\n",
       "      <td>0.0</td>\n",
       "      <td>0.0</td>\n",
       "    </tr>\n",
       "    <tr>\n",
       "      <th>4</th>\n",
       "      <td>0.0</td>\n",
       "      <td>0.0</td>\n",
       "      <td>0.0</td>\n",
       "      <td>0.0</td>\n",
       "      <td>0.0</td>\n",
       "      <td>0.0</td>\n",
       "      <td>0.0</td>\n",
       "      <td>0.0</td>\n",
       "      <td>0.0</td>\n",
       "      <td>0.0</td>\n",
       "      <td>...</td>\n",
       "      <td>0.0</td>\n",
       "      <td>0.0</td>\n",
       "      <td>0.0</td>\n",
       "      <td>0.0</td>\n",
       "      <td>0.0</td>\n",
       "      <td>0.0</td>\n",
       "      <td>0.0</td>\n",
       "      <td>0.0</td>\n",
       "      <td>4.0</td>\n",
       "      <td>0.0</td>\n",
       "    </tr>\n",
       "    <tr>\n",
       "      <th>5</th>\n",
       "      <td>0.0</td>\n",
       "      <td>0.0</td>\n",
       "      <td>0.0</td>\n",
       "      <td>0.0</td>\n",
       "      <td>0.0</td>\n",
       "      <td>0.0</td>\n",
       "      <td>0.0</td>\n",
       "      <td>0.0</td>\n",
       "      <td>0.0</td>\n",
       "      <td>0.0</td>\n",
       "      <td>...</td>\n",
       "      <td>0.0</td>\n",
       "      <td>0.0</td>\n",
       "      <td>0.0</td>\n",
       "      <td>0.0</td>\n",
       "      <td>0.0</td>\n",
       "      <td>0.0</td>\n",
       "      <td>0.0</td>\n",
       "      <td>0.0</td>\n",
       "      <td>0.0</td>\n",
       "      <td>0.0</td>\n",
       "    </tr>\n",
       "  </tbody>\n",
       "</table>\n",
       "<p>5 rows × 6166 columns</p>\n",
       "</div>"
      ],
      "text/plain": [
       "itemID  1     2     3     5     7     8     9     11    12    13    ...  8157  \\\n",
       "userID                                                              ...         \n",
       "1        0.0   0.0   0.0   0.0   0.0   0.0   0.0   0.0   0.0   0.0  ...   0.0   \n",
       "2        0.0   0.0   0.0   0.0   0.0   0.0   0.0   0.0   0.0   0.0  ...   0.0   \n",
       "3        0.0   0.0   0.0   0.0   0.0   0.0   0.0   0.0   0.0   0.0  ...   0.0   \n",
       "4        0.0   0.0   0.0   0.0   0.0   0.0   0.0   0.0   0.0   0.0  ...   0.0   \n",
       "5        0.0   0.0   0.0   0.0   0.0   0.0   0.0   0.0   0.0   0.0  ...   0.0   \n",
       "\n",
       "itemID  8160  8161  8162  8163  8164  8166  8167  8168  8169  \n",
       "userID                                                        \n",
       "1        0.0   0.0   0.0   0.0   0.0   0.0   0.0   0.0   0.0  \n",
       "2        0.0   0.0   0.0   0.0   0.0   0.0   0.0   0.0   0.0  \n",
       "3        0.0   0.0   0.0   0.0   0.0   0.0   0.0   0.0   0.0  \n",
       "4        0.0   0.0   0.0   0.0   0.0   0.0   0.0   4.0   0.0  \n",
       "5        0.0   0.0   0.0   0.0   0.0   0.0   0.0   0.0   0.0  \n",
       "\n",
       "[5 rows x 6166 columns]"
      ]
     },
     "execution_count": 7,
     "metadata": {},
     "output_type": "execute_result"
    }
   ],
   "source": [
    "dense_matrix = dense_matrix.fillna(0)\n",
    "dense_matrix.head()"
   ]
  },
  {
   "cell_type": "markdown",
   "metadata": {},
   "source": [
    "##### As you can see the NaN values have been replaced with 0s. Lets look at the distribution of rattings"
   ]
  },
  {
   "cell_type": "code",
   "execution_count": 8,
   "metadata": {},
   "outputs": [
    {
     "data": {
      "image/png": "[encoded data removed]",
      "text/plain": [
       "<Figure size 432x288 with 1 Axes>"
      ]
     },
     "metadata": {
      "needs_background": "light"
     },
     "output_type": "display_data"
    }
   ],
   "source": [
    "%matplotlib inline\n",
    "\n",
    "\n",
    "ri = dense_matrix.apply(np.count_nonzero, axis=0)\n",
    "import matplotlib.pyplot as plt\n",
    "plt.hist(ri.values, bins=100, range=(0,100))\n",
    "plt.ylabel('No. of items')\n",
    "plt.xlabel('No of ratings')\n",
    "plt.show()"
   ]
  },
  {
   "cell_type": "markdown",
   "metadata": {},
   "source": [
    "##### It looks like we are dealing we a skewed distribution. Most users are do not rate every single item. it looks between 0 and 10 is the majority of the data. Lets take a look at the average number fo ratings per user. "
   ]
  },
  {
   "cell_type": "code",
   "execution_count": 9,
   "metadata": {},
   "outputs": [
    {
     "name": "stdout",
     "output_type": "stream",
     "text": [
      "The Average number of ratings per user is : 12.196570134282478\n"
     ]
    },
    {
     "data": {
      "image/png": "[encoded data removed]",
      "text/plain": [
       "<Figure size 432x288 with 1 Axes>"
      ]
     },
     "metadata": {
      "needs_background": "light"
     },
     "output_type": "display_data"
    }
   ],
   "source": [
    "ri2 = dense_matrix.apply(np.count_nonzero, axis=1)\n",
    "print(\"The Average number of ratings per user is :\", sum(ri2)/float(len(ri2)))\n",
    "\n",
    "plt.hist(ri2.values, bins=20)\n",
    "plt.ylabel('No. Users')\n",
    "plt.xlabel('No. Ratings')\n",
    "plt.show()"
   ]
  },
  {
   "cell_type": "markdown",
   "metadata": {},
   "source": [
    "# Q3\n",
    "\n",
    "##### Now I will write code to print the top 5 similar users to userID 2 based on Euclidean distance. This will be done by creating a function to plug in any userID to find the top similar users."
   ]
  },
  {
   "cell_type": "code",
   "execution_count": 10,
   "metadata": {},
   "outputs": [],
   "source": [
    "def top_n_users(userno, n):\n",
    "    \n",
    "    df_sim = dense_matrix.loc[dense_matrix.index != userno]\n",
    "    \n",
    "    df_sim['distance'] = df_sim.apply(lambda x: euclidean(dense_matrix.loc[userno], x), axis=1)\n",
    "    \n",
    "    return df_sim.sort_values(by='distance').head(n)['distance']"
   ]
  },
  {
   "cell_type": "code",
   "execution_count": 11,
   "metadata": {},
   "outputs": [
    {
     "name": "stderr",
     "output_type": "stream",
     "text": [
      "C:\\Users\\Agent000\\Anaconda3\\lib\\site-packages\\ipykernel_launcher.py:5: SettingWithCopyWarning: \n",
      "A value is trying to be set on a copy of a slice from a DataFrame.\n",
      "Try using .loc[row_indexer,col_indexer] = value instead\n",
      "\n",
      "See the caveats in the documentation: http://pandas.pydata.org/pandas-docs/stable/indexing.html#indexing-view-versus-copy\n",
      "  \"\"\"\n"
     ]
    },
    {
     "data": {
      "text/plain": [
       "userID\n",
       "3917    11.401754\n",
       "6875    12.569805\n",
       "986     12.806248\n",
       "1983    12.884099\n",
       "1156    12.922848\n",
       "Name: distance, dtype: float64"
      ]
     },
     "execution_count": 11,
     "metadata": {},
     "output_type": "execute_result"
    }
   ],
   "source": [
    "top_n_users(2,5)"
   ]
  },
  {
   "cell_type": "markdown",
   "metadata": {},
   "source": [
    "# Q4\n",
    "\n",
    "##### I want to compare what it more like item 1. Is it item 18 or item 36? To determine which item is more like item 1, I will use euclidean distance between 18 and 1, and 36 and 1. The smaller the distance between the two will reveal whether 18 or 36 is more similar to 1. Each item is a vector and the shorter the distance between 18 and 1 & 36 and 1 reveals that the weights in the vector are closer to the same in 1. "
   ]
  },
  {
   "cell_type": "code",
   "execution_count": 12,
   "metadata": {},
   "outputs": [
    {
     "name": "stdout",
     "output_type": "stream",
     "text": [
      "Euclidean distance between item 18 and 1: 29.189039038652847\n",
      "Euclidean distance between item 36 and 1: 40.124805295477756\n"
     ]
    }
   ],
   "source": [
    "eight = euclidean(dense_matrix[18], dense_matrix[1])\n",
    "thirty = euclidean(dense_matrix[36], dense_matrix[1])\n",
    "print(\"Euclidean distance between item 18 and 1:\", eight)\n",
    "print(\"Euclidean distance between item 36 and 1:\", thirty)\n"
   ]
  },
  {
   "cell_type": "code",
   "execution_count": 13,
   "metadata": {},
   "outputs": [
    {
     "name": "stdout",
     "output_type": "stream",
     "text": [
      "itemID 18 is more similar to itemID 1 than itemID 36 because the distance is much shorter between these two vectors.\n"
     ]
    }
   ],
   "source": [
    "print(\"itemID 18 is more similar to itemID 1 than itemID 36 because the distance is much shorter between these two vectors.\")"
   ]
  },
  {
   "cell_type": "markdown",
   "metadata": {},
   "source": [
    "# Q5\n",
    "\n",
    "##### The previous definition was created to look at similar users given a userID. Now I will create a definition to find the top 5 items that are most similar to a given itemID. "
   ]
  },
  {
   "cell_type": "code",
   "execution_count": 14,
   "metadata": {},
   "outputs": [],
   "source": [
    "def top_n_items(item_no, n):\n",
    "    df_sim = dense_matrix.transpose()\n",
    "    df_sim = df_sim.loc[df_sim.index != item_no]\n",
    "    df_sim['distance'] = df_sim.apply(lambda x: euclidean(dense_matrix[item_no], x), axis=1)\n",
    "    return df_sim.sort_values(by='distance').head(n)['distance']"
   ]
  },
  {
   "cell_type": "code",
   "execution_count": 15,
   "metadata": {},
   "outputs": [
    {
     "data": {
      "text/plain": [
       "itemID\n",
       "3711    127.921851\n",
       "4559    127.964839\n",
       "330     129.715072\n",
       "1311    129.722781\n",
       "7328    129.761319\n",
       "Name: distance, dtype: float64"
      ]
     },
     "execution_count": 15,
     "metadata": {},
     "output_type": "execute_result"
    }
   ],
   "source": [
    "top_n_items(8010, 5)"
   ]
  },
  {
   "cell_type": "markdown",
   "metadata": {},
   "source": [
    "# Q6\n",
    "\n",
    "##### Now I will remove books and users with less than 20 ratings per scores from the utility matrix. After this has been done I will out the matrix shape to see how much it has changed"
   ]
  },
  {
   "cell_type": "code",
   "execution_count": 16,
   "metadata": {},
   "outputs": [
    {
     "name": "stdout",
     "output_type": "stream",
     "text": [
      "The shape of dense matrix is now : 766 x 776\n"
     ]
    }
   ],
   "source": [
    "df_i_f = df.groupby('itemID').count()\n",
    "df_u_f = df.groupby('userID').count()\n",
    "items = df_i_f[df_i_f['userID']>20].index\n",
    "dense_matrix = dense_matrix[items]\n",
    "users = df_u_f[df_u_f['itemID']>20].index\n",
    "dense_matrix = dense_matrix.loc[users]\n",
    "\n",
    "print(\"The shape of dense matrix is now : %d x %d\" % dense_matrix.shape)"
   ]
  },
  {
   "cell_type": "markdown",
   "metadata": {},
   "source": [
    "##### Since many data points have been removed lets look to see how much the average number of rating per user has changed. I will also output the histogram just to see how it looks. "
   ]
  },
  {
   "cell_type": "code",
   "execution_count": 17,
   "metadata": {},
   "outputs": [
    {
     "name": "stdout",
     "output_type": "stream",
     "text": [
      "The average number of ratings per user is : 14.212793733681462\n"
     ]
    },
    {
     "data": {
      "image/png": "[encoded data removed]",
      "text/plain": [
       "<Figure size 432x288 with 1 Axes>"
      ]
     },
     "metadata": {
      "needs_background": "light"
     },
     "output_type": "display_data"
    }
   ],
   "source": [
    "ri3 = dense_matrix.apply(np.count_nonzero, axis=1)\n",
    "print(\"The average number of ratings per user is :\", sum(ri3)/float(len(ri3)))\n",
    "\n",
    "plt.hist(ri3, bins=20)\n",
    "plt.ylabel('No. Users')\n",
    "plt.xlabel('No. Ratings')\n",
    "plt.show()"
   ]
  },
  {
   "cell_type": "markdown",
   "metadata": {},
   "source": [
    "# Q7\n",
    "\n",
    "##### Now lets remove users who have not rated itemID 8010. Previously, the value 0 was supplemented for users and items that have not been rated. Therefore, any user that has a 0 for itemID will be removed. Before doing this lets look at the count of the different ratings before removing. Then after removing those users I will look at the counts. "
   ]
  },
  {
   "cell_type": "code",
   "execution_count": 18,
   "metadata": {},
   "outputs": [
    {
     "name": "stdout",
     "output_type": "stream",
     "text": [
      "0.0    592\n",
      "4.0     68\n",
      "5.0     58\n",
      "3.0     27\n",
      "2.0     13\n",
      "1.0      8\n",
      "Name: 8010, dtype: int64\n"
     ]
    }
   ],
   "source": [
    "#Outputing the counts for itemID 8010 before removing it from the matrix\n",
    "print(dense_matrix[8010].value_counts())\n",
    "\n",
    "#removing users who did not rate itemID 8010 from the matrix\n",
    "dense_matrix = dense_matrix[dense_matrix[8010]>0]"
   ]
  },
  {
   "cell_type": "code",
   "execution_count": 19,
   "metadata": {},
   "outputs": [
    {
     "data": {
      "text/html": [
       "<div>\n",
       "<style scoped>\n",
       "    .dataframe tbody tr th:only-of-type {\n",
       "        vertical-align: middle;\n",
       "    }\n",
       "\n",
       "    .dataframe tbody tr th {\n",
       "        vertical-align: top;\n",
       "    }\n",
       "\n",
       "    .dataframe thead th {\n",
       "        text-align: right;\n",
       "    }\n",
       "</style>\n",
       "<table border=\"1\" class=\"dataframe\">\n",
       "  <thead>\n",
       "    <tr style=\"text-align: right;\">\n",
       "      <th>itemID</th>\n",
       "      <th>1</th>\n",
       "      <th>3</th>\n",
       "      <th>18</th>\n",
       "      <th>36</th>\n",
       "      <th>37</th>\n",
       "      <th>39</th>\n",
       "      <th>43</th>\n",
       "      <th>45</th>\n",
       "      <th>48</th>\n",
       "      <th>49</th>\n",
       "      <th>...</th>\n",
       "      <th>8054</th>\n",
       "      <th>8072</th>\n",
       "      <th>8073</th>\n",
       "      <th>8088</th>\n",
       "      <th>8098</th>\n",
       "      <th>8120</th>\n",
       "      <th>8125</th>\n",
       "      <th>8163</th>\n",
       "      <th>8168</th>\n",
       "      <th>8169</th>\n",
       "    </tr>\n",
       "    <tr>\n",
       "      <th>userID</th>\n",
       "      <th></th>\n",
       "      <th></th>\n",
       "      <th></th>\n",
       "      <th></th>\n",
       "      <th></th>\n",
       "      <th></th>\n",
       "      <th></th>\n",
       "      <th></th>\n",
       "      <th></th>\n",
       "      <th></th>\n",
       "      <th></th>\n",
       "      <th></th>\n",
       "      <th></th>\n",
       "      <th></th>\n",
       "      <th></th>\n",
       "      <th></th>\n",
       "      <th></th>\n",
       "      <th></th>\n",
       "      <th></th>\n",
       "      <th></th>\n",
       "      <th></th>\n",
       "    </tr>\n",
       "  </thead>\n",
       "  <tbody>\n",
       "    <tr>\n",
       "      <th>175</th>\n",
       "      <td>0.0</td>\n",
       "      <td>0.0</td>\n",
       "      <td>0.0</td>\n",
       "      <td>0.0</td>\n",
       "      <td>0.0</td>\n",
       "      <td>0.0</td>\n",
       "      <td>3.0</td>\n",
       "      <td>0.0</td>\n",
       "      <td>0.0</td>\n",
       "      <td>0.0</td>\n",
       "      <td>...</td>\n",
       "      <td>0.0</td>\n",
       "      <td>0.0</td>\n",
       "      <td>0.0</td>\n",
       "      <td>0.0</td>\n",
       "      <td>0.0</td>\n",
       "      <td>0.0</td>\n",
       "      <td>0.0</td>\n",
       "      <td>0.0</td>\n",
       "      <td>0.0</td>\n",
       "      <td>0.0</td>\n",
       "    </tr>\n",
       "    <tr>\n",
       "      <th>206</th>\n",
       "      <td>0.0</td>\n",
       "      <td>0.0</td>\n",
       "      <td>0.0</td>\n",
       "      <td>0.0</td>\n",
       "      <td>0.0</td>\n",
       "      <td>0.0</td>\n",
       "      <td>0.0</td>\n",
       "      <td>0.0</td>\n",
       "      <td>0.0</td>\n",
       "      <td>0.0</td>\n",
       "      <td>...</td>\n",
       "      <td>0.0</td>\n",
       "      <td>0.0</td>\n",
       "      <td>0.0</td>\n",
       "      <td>0.0</td>\n",
       "      <td>0.0</td>\n",
       "      <td>0.0</td>\n",
       "      <td>0.0</td>\n",
       "      <td>0.0</td>\n",
       "      <td>0.0</td>\n",
       "      <td>0.0</td>\n",
       "    </tr>\n",
       "    <tr>\n",
       "      <th>213</th>\n",
       "      <td>0.0</td>\n",
       "      <td>0.0</td>\n",
       "      <td>0.0</td>\n",
       "      <td>0.0</td>\n",
       "      <td>0.0</td>\n",
       "      <td>3.0</td>\n",
       "      <td>0.0</td>\n",
       "      <td>0.0</td>\n",
       "      <td>0.0</td>\n",
       "      <td>0.0</td>\n",
       "      <td>...</td>\n",
       "      <td>0.0</td>\n",
       "      <td>0.0</td>\n",
       "      <td>0.0</td>\n",
       "      <td>0.0</td>\n",
       "      <td>0.0</td>\n",
       "      <td>0.0</td>\n",
       "      <td>0.0</td>\n",
       "      <td>0.0</td>\n",
       "      <td>0.0</td>\n",
       "      <td>0.0</td>\n",
       "    </tr>\n",
       "    <tr>\n",
       "      <th>214</th>\n",
       "      <td>0.0</td>\n",
       "      <td>0.0</td>\n",
       "      <td>0.0</td>\n",
       "      <td>0.0</td>\n",
       "      <td>0.0</td>\n",
       "      <td>0.0</td>\n",
       "      <td>0.0</td>\n",
       "      <td>0.0</td>\n",
       "      <td>0.0</td>\n",
       "      <td>0.0</td>\n",
       "      <td>...</td>\n",
       "      <td>0.0</td>\n",
       "      <td>0.0</td>\n",
       "      <td>0.0</td>\n",
       "      <td>0.0</td>\n",
       "      <td>0.0</td>\n",
       "      <td>0.0</td>\n",
       "      <td>0.0</td>\n",
       "      <td>0.0</td>\n",
       "      <td>0.0</td>\n",
       "      <td>0.0</td>\n",
       "    </tr>\n",
       "    <tr>\n",
       "      <th>215</th>\n",
       "      <td>0.0</td>\n",
       "      <td>0.0</td>\n",
       "      <td>0.0</td>\n",
       "      <td>0.0</td>\n",
       "      <td>0.0</td>\n",
       "      <td>0.0</td>\n",
       "      <td>0.0</td>\n",
       "      <td>0.0</td>\n",
       "      <td>0.0</td>\n",
       "      <td>0.0</td>\n",
       "      <td>...</td>\n",
       "      <td>0.0</td>\n",
       "      <td>0.0</td>\n",
       "      <td>0.0</td>\n",
       "      <td>0.0</td>\n",
       "      <td>0.0</td>\n",
       "      <td>0.0</td>\n",
       "      <td>0.0</td>\n",
       "      <td>0.0</td>\n",
       "      <td>0.0</td>\n",
       "      <td>0.0</td>\n",
       "    </tr>\n",
       "  </tbody>\n",
       "</table>\n",
       "<p>5 rows × 776 columns</p>\n",
       "</div>"
      ],
      "text/plain": [
       "itemID  1     3     18    36    37    39    43    45    48    49    ...  8054  \\\n",
       "userID                                                              ...         \n",
       "175      0.0   0.0   0.0   0.0   0.0   0.0   3.0   0.0   0.0   0.0  ...   0.0   \n",
       "206      0.0   0.0   0.0   0.0   0.0   0.0   0.0   0.0   0.0   0.0  ...   0.0   \n",
       "213      0.0   0.0   0.0   0.0   0.0   3.0   0.0   0.0   0.0   0.0  ...   0.0   \n",
       "214      0.0   0.0   0.0   0.0   0.0   0.0   0.0   0.0   0.0   0.0  ...   0.0   \n",
       "215      0.0   0.0   0.0   0.0   0.0   0.0   0.0   0.0   0.0   0.0  ...   0.0   \n",
       "\n",
       "itemID  8072  8073  8088  8098  8120  8125  8163  8168  8169  \n",
       "userID                                                        \n",
       "175      0.0   0.0   0.0   0.0   0.0   0.0   0.0   0.0   0.0  \n",
       "206      0.0   0.0   0.0   0.0   0.0   0.0   0.0   0.0   0.0  \n",
       "213      0.0   0.0   0.0   0.0   0.0   0.0   0.0   0.0   0.0  \n",
       "214      0.0   0.0   0.0   0.0   0.0   0.0   0.0   0.0   0.0  \n",
       "215      0.0   0.0   0.0   0.0   0.0   0.0   0.0   0.0   0.0  \n",
       "\n",
       "[5 rows x 776 columns]"
      ]
     },
     "execution_count": 19,
     "metadata": {},
     "output_type": "execute_result"
    }
   ],
   "source": [
    "#Looking at the first five rows of the matrix after removing users who did not rate itemID 8010\n",
    "dense_matrix.head()"
   ]
  },
  {
   "cell_type": "code",
   "execution_count": 20,
   "metadata": {},
   "outputs": [
    {
     "name": "stdout",
     "output_type": "stream",
     "text": [
      "The shape of dense matrix is now : 174 x 776\n"
     ]
    }
   ],
   "source": [
    "#Looking at the shape of the matrix after removing the users who did not rate itemID 8010\n",
    "print(\"The shape of dense matrix is now : %d x %d\" % dense_matrix.shape)"
   ]
  },
  {
   "cell_type": "code",
   "execution_count": 21,
   "metadata": {},
   "outputs": [
    {
     "data": {
      "text/plain": [
       "4.0    68\n",
       "5.0    58\n",
       "3.0    27\n",
       "2.0    13\n",
       "1.0     8\n",
       "Name: 8010, dtype: int64"
      ]
     },
     "execution_count": 21,
     "metadata": {},
     "output_type": "execute_result"
    }
   ],
   "source": [
    "#Looking the coutns of the ratings for itemID 8010 after removing the users who did not rate this item\n",
    "dense_matrix[8010].value_counts()"
   ]
  },
  {
   "cell_type": "markdown",
   "metadata": {},
   "source": [
    "##### The number of users have been greatly reduced. It looks like 174 users have actually rates itemID 8010. "
   ]
  },
  {
   "cell_type": "markdown",
   "metadata": {},
   "source": [
    "# Q8\n",
    "\n",
    "##### The data remaining data set will be split between 25% of users for testing the other 75% will be used for training. Along the way I will print the dimensions of the test set and training set. I will also print the mean rating of itemID 8010 in the training set and testing set. This means the itemID 8010 is the target variable and all the columns/ItemIDs are the features. "
   ]
  },
  {
   "cell_type": "markdown",
   "metadata": {},
   "source": [
    "### Train-Test Split"
   ]
  },
  {
   "cell_type": "code",
   "execution_count": 22,
   "metadata": {},
   "outputs": [],
   "source": [
    "from sklearn.model_selection import train_test_split\n",
    "\n",
    "#Grabbing all the itemIDs that are not 8010\n",
    "X = dense_matrix[dense_matrix[8010]!=0]\n",
    "\n",
    "#Grabbing the specific target variable which in this case is itemID 8010\n",
    "y = dense_matrix[8010]\n",
    "\n",
    "#train-test split. 25% will be testing and 75% will be training\n",
    "x_train, x_test, y_train, y_test = train_test_split(X, y, test_size = .25, random_state = 725)"
   ]
  },
  {
   "cell_type": "markdown",
   "metadata": {},
   "source": [
    "### Dimensions of Training and Testing Set"
   ]
  },
  {
   "cell_type": "code",
   "execution_count": 23,
   "metadata": {},
   "outputs": [
    {
     "name": "stdout",
     "output_type": "stream",
     "text": [
      "The dimensions of the training set excluding itemID 8010 : 130 x 776\n",
      "The dimensions of the test set excluding itemID 8010 : 44 x 776\n"
     ]
    }
   ],
   "source": [
    "#For the x_train and x_test dimensions\n",
    "print(\"The dimensions of the training set excluding itemID 8010 : %d x %d\" % np.shape(x_train))\n",
    "print(\"The dimensions of the test set excluding itemID 8010 : %d x %d\" % np.shape(x_test))\n"
   ]
  },
  {
   "cell_type": "code",
   "execution_count": 24,
   "metadata": {},
   "outputs": [
    {
     "name": "stdout",
     "output_type": "stream",
     "text": [
      "The dimensions of the training set for itemID 8010 : 130\n",
      "The dimensions of the test set itemID 8010 : 44\n"
     ]
    }
   ],
   "source": [
    "#Dimensions for the y_train and y_test\n",
    "print(\"The dimensions of the training set for itemID 8010 : %d\" % np.shape(y_train))\n",
    "print(\"The dimensions of the test set itemID 8010 : %d\" % np.shape(y_test))"
   ]
  },
  {
   "cell_type": "markdown",
   "metadata": {},
   "source": [
    "### Mean rating for itemID 8010 in training and testing set"
   ]
  },
  {
   "cell_type": "code",
   "execution_count": 25,
   "metadata": {},
   "outputs": [
    {
     "name": "stdout",
     "output_type": "stream",
     "text": [
      "The mean rating for itemID 8010 in training set is : %d 3.830769230769231\n",
      "The mean rating for itemID 8010 in the testing set is : %d 4.068181818181818\n"
     ]
    }
   ],
   "source": [
    "print(\"The mean rating for itemID 8010 in training set is : %d\", y_train.mean())\n",
    "print(\"The mean rating for itemID 8010 in the testing set is : %d\", y_test.mean())"
   ]
  },
  {
   "cell_type": "markdown",
   "metadata": {},
   "source": [
    "##### It appears the mean rating for itemID 8010 is around 0.2 difference between the training and testing set"
   ]
  },
  {
   "cell_type": "markdown",
   "metadata": {},
   "source": [
    "# Q9\n",
    "\n",
    "##### This part will be subdivided into different sections. First I will print the userID of the user in the 5th row (Not userID 5) in the test data set. Second, I will predict this user's rating of itemID 8010 based on the top 5 similar users in the training data set. I will print the user's predicted rating and the actual rating of the book. When computing the distance and predicting the distance between the individual user I will look at euclidean and consine distance to see which one gets closer to the actual result for the 5th user for itemID 8010"
   ]
  },
  {
   "cell_type": "markdown",
   "metadata": {},
   "source": [
    "### userID in the 5th row in the test set"
   ]
  },
  {
   "cell_type": "code",
   "execution_count": 26,
   "metadata": {},
   "outputs": [
    {
     "name": "stdout",
     "output_type": "stream",
     "text": [
      "The userID in the 5th row in the test set is : 1700\n"
     ]
    }
   ],
   "source": [
    "print(\"The userID in the 5th row in the test set is : %d\" % y_test.index[4])"
   ]
  },
  {
   "cell_type": "markdown",
   "metadata": {},
   "source": [
    "### Creating a function for user-based prediction\n",
    "\n",
    "##### Before doing this I will need to convert the training and testing to data frames"
   ]
  },
  {
   "cell_type": "code",
   "execution_count": 27,
   "metadata": {},
   "outputs": [
    {
     "name": "stdout",
     "output_type": "stream",
     "text": [
      "shapes\n",
      "(130, 776)\n",
      "(44, 776)\n",
      "(130, 1)\n",
      "(44, 1)\n",
      "\n",
      "class counts\n",
      "4.0    53\n",
      "5.0    39\n",
      "3.0    21\n",
      "2.0    11\n",
      "1.0     6\n",
      "Name: 8010, dtype: int64\n",
      "5.0    19\n",
      "4.0    15\n",
      "3.0     6\n",
      "2.0     2\n",
      "1.0     2\n",
      "Name: 8010, dtype: int64\n"
     ]
    }
   ],
   "source": [
    "df_x_train = pd.DataFrame(x_train)\n",
    "df_x_test = pd.DataFrame(x_test)\n",
    "df_y_test = pd.DataFrame(y_test)\n",
    "df_y_train = pd.DataFrame(y_train)\n",
    "\n",
    "print(\"shapes\")\n",
    "print(df_x_train.shape)\n",
    "print(df_x_test.shape)\n",
    "print(df_y_train.shape)\n",
    "print(df_y_test.shape)\n",
    "\n",
    "print()\n",
    "\n",
    "print(\"class counts\")\n",
    "print(df_y_train[8010].value_counts())\n",
    "print(df_y_test[8010].value_counts())"
   ]
  },
  {
   "cell_type": "markdown",
   "metadata": {},
   "source": [
    "### Cosine distance function"
   ]
  },
  {
   "cell_type": "code",
   "execution_count": 28,
   "metadata": {},
   "outputs": [],
   "source": [
    "n = 5\n",
    "\n",
    "def user_based_predict_cosine(user_no):\n",
    "    # retrive the top k similar users\n",
    "    #copy from all the training predictors\n",
    "    df_sim = df_x_train.copy()\n",
    "    #for each user, calculate the distance between this user and the active user\n",
    "    df_sim['distance'] = df_sim.apply(lambda x: cosine(df_x_test.loc[user_no], x), axis=1)\n",
    "    #create a new date frame to store the top k similar users\n",
    "    df_sim_users = df_sim.loc[df_sim.sort_values(by='distance').head(n).index]\n",
    "    #calculate these similar users' rating on 8010, weighted by distance\n",
    "    df_sim_users['weighted_d'] = list(map(lambda x: df_sim_users.loc[x]['distance']*df_y_train.loc[x][8010], df_sim_users.index))\n",
    "    predicted = df_sim_users['weighted_d'].sum()/df_sim_users['distance'].sum()\n",
    "    return predicted"
   ]
  },
  {
   "cell_type": "markdown",
   "metadata": {},
   "source": [
    "### Euclidean distance function"
   ]
  },
  {
   "cell_type": "code",
   "execution_count": 29,
   "metadata": {},
   "outputs": [],
   "source": [
    "k = 5\n",
    "\n",
    "def user_based_predict_euclidean(user_no):\n",
    "    # retrive the top k similar users\n",
    "    #copy from all the training predictors\n",
    "    df_sim = df_x_train.copy()\n",
    "    #for each user, calculate the distance between this user and the active user\n",
    "    df_sim['distance'] = df_sim.apply(lambda x: euclidean(df_x_test.loc[user_no], x), axis=1)\n",
    "    #create a new date frame to store the top k similar users\n",
    "    df_sim_users = df_sim.loc[df_sim.sort_values(by='distance').head(k).index]\n",
    "    #calculate these similar users' rating on 8010, weighted by distance\n",
    "    df_sim_users['weighted_d'] = list(map(lambda x: df_sim_users.loc[x]['distance']*df_y_train.loc[x][8010], df_sim_users.index))\n",
    "    predicted = df_sim_users['weighted_d'].sum()/df_sim_users['distance'].sum()\n",
    "    return predicted"
   ]
  },
  {
   "cell_type": "code",
   "execution_count": 30,
   "metadata": {},
   "outputs": [
    {
     "name": "stdout",
     "output_type": "stream",
     "text": [
      "itemID  1     3     18    36    37    39    43    45    48    49    ...  8054  \\\n",
      "userID                                                              ...         \n",
      "5703     0.0   0.0   0.0   0.0   0.0   0.0   0.0   0.0   0.0   0.0  ...   0.0   \n",
      "5991     0.0   0.0   0.0   0.0   0.0   0.0   0.0   0.0   0.0   0.0  ...   0.0   \n",
      "6988     0.0   0.0   0.0   0.0   0.0   0.0   0.0   0.0   0.0   0.0  ...   0.0   \n",
      "3990     0.0   0.0   0.0   0.0   0.0   0.0   0.0   0.0   0.0   0.0  ...   0.0   \n",
      "1700     0.0   0.0   0.0   0.0   0.0   1.0   0.0   0.0   0.0   0.0  ...   0.0   \n",
      "\n",
      "itemID  8072  8073  8088  8098  8120  8125  8163  8168  8169  \n",
      "userID                                                        \n",
      "5703     0.0   0.0   0.0   0.0   0.0   0.0   0.0   0.0   0.0  \n",
      "5991     0.0   0.0   0.0   0.0   0.0   0.0   0.0   0.0   0.0  \n",
      "6988     0.0   0.0   0.0   0.0   0.0   0.0   0.0   0.0   0.0  \n",
      "3990     0.0   0.0   0.0   0.0   0.0   0.0   0.0   0.0   0.0  \n",
      "1700     0.0   0.0   0.0   0.0   0.0   0.0   0.0   0.0   0.0  \n",
      "\n",
      "[5 rows x 776 columns]\n"
     ]
    }
   ],
   "source": [
    "print(df_x_test.head())"
   ]
  },
  {
   "cell_type": "code",
   "execution_count": 31,
   "metadata": {},
   "outputs": [
    {
     "name": "stdout",
     "output_type": "stream",
     "text": [
      "1700\n",
      "This users's rating on other items:  itemID\n",
      "1       0.0\n",
      "3       0.0\n",
      "18      0.0\n",
      "36      0.0\n",
      "37      0.0\n",
      "39      1.0\n",
      "43      0.0\n",
      "45      0.0\n",
      "48      0.0\n",
      "49      0.0\n",
      "58      0.0\n",
      "59      0.0\n",
      "60      0.0\n",
      "77      0.0\n",
      "81      0.0\n",
      "84      0.0\n",
      "87      0.0\n",
      "110     0.0\n",
      "111     0.0\n",
      "114     0.0\n",
      "117     0.0\n",
      "123     0.0\n",
      "137     0.0\n",
      "138     0.0\n",
      "139     0.0\n",
      "143     0.0\n",
      "144     0.0\n",
      "146     0.0\n",
      "147     0.0\n",
      "148     0.0\n",
      "       ... \n",
      "7682    0.0\n",
      "7683    0.0\n",
      "7689    0.0\n",
      "7772    0.0\n",
      "7783    0.0\n",
      "7791    0.0\n",
      "7792    0.0\n",
      "7794    0.0\n",
      "7795    0.0\n",
      "7796    0.0\n",
      "7800    0.0\n",
      "7807    0.0\n",
      "7867    0.0\n",
      "7868    0.0\n",
      "7891    0.0\n",
      "7948    0.0\n",
      "7951    0.0\n",
      "8010    5.0\n",
      "8016    0.0\n",
      "8017    0.0\n",
      "8054    0.0\n",
      "8072    0.0\n",
      "8073    0.0\n",
      "8088    0.0\n",
      "8098    0.0\n",
      "8120    0.0\n",
      "8125    0.0\n",
      "8163    0.0\n",
      "8168    0.0\n",
      "8169    0.0\n",
      "Name: 1700, Length: 776, dtype: float64\n",
      "\n",
      "The predicted rating on itemID 8010 using cosine distance:  4.567684858569868\n",
      "The predicted rating on itemID 8010 using euclidean distance:  4.181940146215447\n",
      "The actual rating on itemID 8010:  5.0\n"
     ]
    }
   ],
   "source": [
    "uid = df_x_test.index[4]\n",
    "print(uid)\n",
    "print(\"This users's rating on other items: \", df_x_test.loc[uid])\n",
    "print()\n",
    "print(\"The predicted rating on itemID 8010 using cosine distance: \", user_based_predict_cosine(uid))\n",
    "print(\"The predicted rating on itemID 8010 using euclidean distance: \", user_based_predict_euclidean(uid))\n",
    "print(\"The actual rating on itemID 8010: \", df_y_test.loc[uid][8010])"
   ]
  },
  {
   "cell_type": "markdown",
   "metadata": {},
   "source": [
    "##### It appears the cosine distance did a better job predicting the actual rating on itemID 8010 for the 5th row user. If you follow the convential rules for rounding, the cosine distance would have been around up to 5.0 which is the actual rating for itemID for userID 1700 (5th row user). Whereas the eclidean distance would have been rounded down the 4.0, which is not actual rating for this user. "
   ]
  },
  {
   "cell_type": "markdown",
   "metadata": {},
   "source": [
    "# Q10"
   ]
  },
  {
   "cell_type": "markdown",
   "metadata": {},
   "source": [
    "##### Content based filtering is a type of recommender system based on content. It builds upon the user's profile and recommends items based on the user's ratings or previously bought items. It takes the positve ratings from the user and compares to items that similar and then outputs those similar items to the user. "
   ]
  },
  {
   "cell_type": "markdown",
   "metadata": {},
   "source": [
    "##### Collaborative Filtering is the idea of combining both the user's preference and finding other users within the same community that have similar preferences. The individual user will receive recommendations based on other similar users with similar preference. The recommended items to the individual user are ones that have not been rated by the individual. There are two different approaches. User based approach: is making recommendations based on other users similar to the individual. Item based apporach: is making recommendatios based on similarity between items from other users ratings. "
   ]
  },
  {
   "cell_type": "markdown",
   "metadata": {},
   "source": [
    "##### Content based filtering is based solely on the individual user's preferences and finds other items similar to that preference. In contrast, collaborative filtering can create a hybrid model that incorporates both item based and user based filtering which takes into other users who are similar to the individual user. Therefore, incorporates the inidividual user's own preference and compares it to other users. Content based filtering uses an engine of objects and associates its to similar ones. Collaborative filtering uses an engine that links to others users data and associates similar preferences and makes assumptions based on either or both item or user preference to recommend items.   "
   ]
  },
  {
   "cell_type": "markdown",
   "metadata": {},
   "source": [
    "#  Q11"
   ]
  },
  {
   "cell_type": "code",
   "execution_count": null,
   "metadata": {},
   "outputs": [],
   "source": []
  }
 ],
 "metadata": {
  "kernelspec": {
   "display_name": "Python 3",
   "language": "python",
   "name": "python3"
  },
  "language_info": {
   "codemirror_mode": {
    "name": "ipython",
    "version": 3
   },
   "file_extension": ".py",
   "mimetype": "text/x-python",
   "name": "python",
   "nbconvert_exporter": "python",
   "pygments_lexer": "ipython3",
   "version": "3.7.3"
  }
 },
 "nbformat": 4,
 "nbformat_minor": 2
}
